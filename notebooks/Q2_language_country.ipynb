{
 "cells": [
  {
   "cell_type": "markdown",
   "metadata": {},
   "source": [
    "# Research question 2"
   ]
  },
  {
   "cell_type": "markdown",
   "metadata": {},
   "source": [
    "## Tongues"
   ]
  },
  {
   "cell_type": "markdown",
   "metadata": {},
   "source": [
    "### How does the language and country of a movie influence its box office revenue?"
   ]
  },
  {
   "cell_type": "markdown",
   "metadata": {},
   "source": [
    "The goal is to analyse in more detail how the language(s) and the country of origin of a movie influence it's box office revenue."
   ]
  },
  {
   "cell_type": "markdown",
   "metadata": {},
   "source": [
    "### Imports and data loading"
   ]
  },
  {
   "cell_type": "code",
   "execution_count": 20,
   "metadata": {},
   "outputs": [],
   "source": [
    "# imports\n",
    "import pandas as pd\n",
    "import numpy as np\n",
    "import seaborn as sns\n",
    "import matplotlib.pyplot as plt\n",
    "from itertools import chain\n",
    "from collections import Counter\n",
    "import ast \n",
    "import statsmodels.formula.api as smf\n",
    "import statsmodels.api as sm\n",
    "from statsmodels.formula.api import ols"
   ]
  },
  {
   "cell_type": "code",
   "execution_count": 2,
   "metadata": {},
   "outputs": [],
   "source": [
    "# set global variables\n",
    "DATA_PATH = '../data/'\n",
    "MOVIES_FILE = 'movies_combined_inflated.csv'"
   ]
  },
  {
   "cell_type": "code",
   "execution_count": 3,
   "metadata": {},
   "outputs": [
    {
     "data": {
      "text/html": [
       "<div>\n",
       "<style scoped>\n",
       "    .dataframe tbody tr th:only-of-type {\n",
       "        vertical-align: middle;\n",
       "    }\n",
       "\n",
       "    .dataframe tbody tr th {\n",
       "        vertical-align: top;\n",
       "    }\n",
       "\n",
       "    .dataframe thead th {\n",
       "        text-align: right;\n",
       "    }\n",
       "</style>\n",
       "<table border=\"1\" class=\"dataframe\">\n",
       "  <thead>\n",
       "    <tr style=\"text-align: right;\">\n",
       "      <th></th>\n",
       "      <th>wiki_movie_id</th>\n",
       "      <th>freebase_movie_id</th>\n",
       "      <th>movie_name</th>\n",
       "      <th>movie_release_date</th>\n",
       "      <th>movie_box_office_revenue</th>\n",
       "      <th>movie_runtime</th>\n",
       "      <th>movie_languages</th>\n",
       "      <th>movie_countries</th>\n",
       "      <th>movie_genres</th>\n",
       "      <th>release_year</th>\n",
       "      <th>...</th>\n",
       "      <th>combined_revenue</th>\n",
       "      <th>release_month</th>\n",
       "      <th>release_day</th>\n",
       "      <th>primaryTitle</th>\n",
       "      <th>startYear</th>\n",
       "      <th>averageRating</th>\n",
       "      <th>numVotes</th>\n",
       "      <th>tconst</th>\n",
       "      <th>director</th>\n",
       "      <th>inflated_revenue</th>\n",
       "    </tr>\n",
       "  </thead>\n",
       "  <tbody>\n",
       "    <tr>\n",
       "      <th>0</th>\n",
       "      <td>975900</td>\n",
       "      <td>/m/03vyhn</td>\n",
       "      <td>Ghosts of Mars</td>\n",
       "      <td>2001-08-24</td>\n",
       "      <td>14010832.0</td>\n",
       "      <td>98.0</td>\n",
       "      <td>[('/m/02h40lc', 'English Language')]</td>\n",
       "      <td>[('/m/09c7w0', 'United States of America')]</td>\n",
       "      <td>[('/m/01jfsb', 'Thriller'), ('/m/06n90', 'Scie...</td>\n",
       "      <td>2001.0</td>\n",
       "      <td>...</td>\n",
       "      <td>14010832.0</td>\n",
       "      <td>8.0</td>\n",
       "      <td>24.0</td>\n",
       "      <td>Ghosts of Mars</td>\n",
       "      <td>2001.0</td>\n",
       "      <td>4.9</td>\n",
       "      <td>58868.0</td>\n",
       "      <td>tt0228333</td>\n",
       "      <td>John Carpenter</td>\n",
       "      <td>1.899115e+07</td>\n",
       "    </tr>\n",
       "    <tr>\n",
       "      <th>1</th>\n",
       "      <td>10408933</td>\n",
       "      <td>/m/02qc0j7</td>\n",
       "      <td>Alexander's Ragtime Band</td>\n",
       "      <td>1938-08-16</td>\n",
       "      <td>3600000.0</td>\n",
       "      <td>106.0</td>\n",
       "      <td>[('/m/02h40lc', 'English Language')]</td>\n",
       "      <td>[('/m/09c7w0', 'United States of America')]</td>\n",
       "      <td>[('/m/04t36', 'Musical'), ('/m/01z4y', 'Comedy...</td>\n",
       "      <td>1938.0</td>\n",
       "      <td>...</td>\n",
       "      <td>4000000.0</td>\n",
       "      <td>8.0</td>\n",
       "      <td>16.0</td>\n",
       "      <td>Alexander's Ragtime Band</td>\n",
       "      <td>1938.0</td>\n",
       "      <td>6.8</td>\n",
       "      <td>2357.0</td>\n",
       "      <td>tt0029852</td>\n",
       "      <td>Henry King</td>\n",
       "      <td>6.812740e+07</td>\n",
       "    </tr>\n",
       "    <tr>\n",
       "      <th>2</th>\n",
       "      <td>171005</td>\n",
       "      <td>/m/016ywb</td>\n",
       "      <td>Henry V</td>\n",
       "      <td>1989-11-08</td>\n",
       "      <td>10161099.0</td>\n",
       "      <td>137.0</td>\n",
       "      <td>[('/m/02h40lc', 'English Language')]</td>\n",
       "      <td>[('/m/07ssc', 'United Kingdom')]</td>\n",
       "      <td>[('/m/04xvh5', 'Costume drama'), ('/m/082gq', ...</td>\n",
       "      <td>1989.0</td>\n",
       "      <td>...</td>\n",
       "      <td>10161099.0</td>\n",
       "      <td>11.0</td>\n",
       "      <td>8.0</td>\n",
       "      <td>Henry V</td>\n",
       "      <td>1989.0</td>\n",
       "      <td>7.5</td>\n",
       "      <td>32088.0</td>\n",
       "      <td>tt0097499</td>\n",
       "      <td>Kenneth Branagh</td>\n",
       "      <td>1.967252e+07</td>\n",
       "    </tr>\n",
       "    <tr>\n",
       "      <th>3</th>\n",
       "      <td>77856</td>\n",
       "      <td>/m/0kcn7</td>\n",
       "      <td>Mary Poppins</td>\n",
       "      <td>1964-08-27</td>\n",
       "      <td>102272727.0</td>\n",
       "      <td>139.0</td>\n",
       "      <td>[('/m/02h40lc', 'English Language')]</td>\n",
       "      <td>[('/m/09c7w0', 'United States of America')]</td>\n",
       "      <td>[('/m/0hj3myq', \"Children's/Family\"), ('/m/04t...</td>\n",
       "      <td>1964.0</td>\n",
       "      <td>...</td>\n",
       "      <td>102272727.0</td>\n",
       "      <td>8.0</td>\n",
       "      <td>27.0</td>\n",
       "      <td>Mary Poppins</td>\n",
       "      <td>1964.0</td>\n",
       "      <td>7.8</td>\n",
       "      <td>189183.0</td>\n",
       "      <td>tt0058331</td>\n",
       "      <td>Robert Stevenson</td>\n",
       "      <td>7.913870e+08</td>\n",
       "    </tr>\n",
       "    <tr>\n",
       "      <th>4</th>\n",
       "      <td>612710</td>\n",
       "      <td>/m/02wjqm</td>\n",
       "      <td>New Rose Hotel</td>\n",
       "      <td>1999-10-01</td>\n",
       "      <td>21521.0</td>\n",
       "      <td>92.0</td>\n",
       "      <td>[('/m/02h40lc', 'English Language')]</td>\n",
       "      <td>[('/m/09c7w0', 'United States of America')]</td>\n",
       "      <td>[('/m/01jfsb', 'Thriller'), ('/m/06n90', 'Scie...</td>\n",
       "      <td>1999.0</td>\n",
       "      <td>...</td>\n",
       "      <td>21521.0</td>\n",
       "      <td>10.0</td>\n",
       "      <td>1.0</td>\n",
       "      <td>NaN</td>\n",
       "      <td>NaN</td>\n",
       "      <td>0.0</td>\n",
       "      <td>0.0</td>\n",
       "      <td>NaN</td>\n",
       "      <td>Unknown</td>\n",
       "      <td>3.100822e+04</td>\n",
       "    </tr>\n",
       "  </tbody>\n",
       "</table>\n",
       "<p>5 rows × 24 columns</p>\n",
       "</div>"
      ],
      "text/plain": [
       "   wiki_movie_id freebase_movie_id                movie_name  \\\n",
       "0         975900         /m/03vyhn            Ghosts of Mars   \n",
       "1       10408933        /m/02qc0j7  Alexander's Ragtime Band   \n",
       "2         171005         /m/016ywb                   Henry V   \n",
       "3          77856          /m/0kcn7              Mary Poppins   \n",
       "4         612710         /m/02wjqm            New Rose Hotel   \n",
       "\n",
       "  movie_release_date  movie_box_office_revenue  movie_runtime  \\\n",
       "0         2001-08-24                14010832.0           98.0   \n",
       "1         1938-08-16                 3600000.0          106.0   \n",
       "2         1989-11-08                10161099.0          137.0   \n",
       "3         1964-08-27               102272727.0          139.0   \n",
       "4         1999-10-01                   21521.0           92.0   \n",
       "\n",
       "                        movie_languages  \\\n",
       "0  [('/m/02h40lc', 'English Language')]   \n",
       "1  [('/m/02h40lc', 'English Language')]   \n",
       "2  [('/m/02h40lc', 'English Language')]   \n",
       "3  [('/m/02h40lc', 'English Language')]   \n",
       "4  [('/m/02h40lc', 'English Language')]   \n",
       "\n",
       "                               movie_countries  \\\n",
       "0  [('/m/09c7w0', 'United States of America')]   \n",
       "1  [('/m/09c7w0', 'United States of America')]   \n",
       "2             [('/m/07ssc', 'United Kingdom')]   \n",
       "3  [('/m/09c7w0', 'United States of America')]   \n",
       "4  [('/m/09c7w0', 'United States of America')]   \n",
       "\n",
       "                                        movie_genres  release_year  ...  \\\n",
       "0  [('/m/01jfsb', 'Thriller'), ('/m/06n90', 'Scie...        2001.0  ...   \n",
       "1  [('/m/04t36', 'Musical'), ('/m/01z4y', 'Comedy...        1938.0  ...   \n",
       "2  [('/m/04xvh5', 'Costume drama'), ('/m/082gq', ...        1989.0  ...   \n",
       "3  [('/m/0hj3myq', \"Children's/Family\"), ('/m/04t...        1964.0  ...   \n",
       "4  [('/m/01jfsb', 'Thriller'), ('/m/06n90', 'Scie...        1999.0  ...   \n",
       "\n",
       "  combined_revenue  release_month  release_day              primaryTitle  \\\n",
       "0       14010832.0            8.0         24.0            Ghosts of Mars   \n",
       "1        4000000.0            8.0         16.0  Alexander's Ragtime Band   \n",
       "2       10161099.0           11.0          8.0                   Henry V   \n",
       "3      102272727.0            8.0         27.0              Mary Poppins   \n",
       "4          21521.0           10.0          1.0                       NaN   \n",
       "\n",
       "   startYear  averageRating  numVotes     tconst          director  \\\n",
       "0     2001.0            4.9   58868.0  tt0228333    John Carpenter   \n",
       "1     1938.0            6.8    2357.0  tt0029852        Henry King   \n",
       "2     1989.0            7.5   32088.0  tt0097499   Kenneth Branagh   \n",
       "3     1964.0            7.8  189183.0  tt0058331  Robert Stevenson   \n",
       "4        NaN            0.0       0.0        NaN           Unknown   \n",
       "\n",
       "   inflated_revenue  \n",
       "0      1.899115e+07  \n",
       "1      6.812740e+07  \n",
       "2      1.967252e+07  \n",
       "3      7.913870e+08  \n",
       "4      3.100822e+04  \n",
       "\n",
       "[5 rows x 24 columns]"
      ]
     },
     "execution_count": 3,
     "metadata": {},
     "output_type": "execute_result"
    }
   ],
   "source": [
    "# load the data\n",
    "df_movies = pd.read_csv(DATA_PATH + MOVIES_FILE)\n",
    "df_movies.head()"
   ]
  },
  {
   "cell_type": "markdown",
   "metadata": {},
   "source": [
    "### Data pre-processing"
   ]
  },
  {
   "cell_type": "markdown",
   "metadata": {},
   "source": [
    "A new, reduced dataframe can be created by only taking the relevant columns for this specific research question. The following columns are necessary:\n",
    "- 'movie_name'\n",
    "- 'movie_languages'\n",
    "- 'movie_countries'\n",
    "- 'inflated_revenue'\n",
    "\n",
    "Three different dataframes are created:\n",
    "- df_movie_country -> specific to the country only\n",
    "- df_movie_language -> specific to the language only\n",
    "- df_movie_country_language -> for both country and language \n",
    "\n",
    "In each dataframe, rows that don't contain any value for on of the mentioned columns are removed. "
   ]
  },
  {
   "cell_type": "code",
   "execution_count": 4,
   "metadata": {},
   "outputs": [
    {
     "name": "stderr",
     "output_type": "stream",
     "text": [
      "C:\\Users\\celin\\AppData\\Local\\Temp\\ipykernel_11536\\2450804310.py:7: SettingWithCopyWarning: \n",
      "A value is trying to be set on a copy of a slice from a DataFrame\n",
      "\n",
      "See the caveats in the documentation: https://pandas.pydata.org/pandas-docs/stable/user_guide/indexing.html#returning-a-view-versus-a-copy\n",
      "  df_movie_country.dropna(inplace=True)\n",
      "C:\\Users\\celin\\AppData\\Local\\Temp\\ipykernel_11536\\2450804310.py:8: SettingWithCopyWarning: \n",
      "A value is trying to be set on a copy of a slice from a DataFrame\n",
      "\n",
      "See the caveats in the documentation: https://pandas.pydata.org/pandas-docs/stable/user_guide/indexing.html#returning-a-view-versus-a-copy\n",
      "  df_movie_language.dropna(inplace=True)\n",
      "C:\\Users\\celin\\AppData\\Local\\Temp\\ipykernel_11536\\2450804310.py:9: SettingWithCopyWarning: \n",
      "A value is trying to be set on a copy of a slice from a DataFrame\n",
      "\n",
      "See the caveats in the documentation: https://pandas.pydata.org/pandas-docs/stable/user_guide/indexing.html#returning-a-view-versus-a-copy\n",
      "  df_movie_country_language.dropna(inplace=True)\n"
     ]
    }
   ],
   "source": [
    "# create the specific dataframes\n",
    "df_movie_country = df_movies[[\"movie_name\", \"movie_countries\", \"inflated_revenue\"]]\n",
    "df_movie_language = df_movies[[\"movie_name\", \"movie_languages\", \"inflated_revenue\"]]\n",
    "df_movie_country_language = df_movies[[\"movie_name\", \"movie_languages\", \"movie_countries\", \"inflated_revenue\"]]\n",
    "\n",
    "# drop rows with missing values\n",
    "df_movie_country.dropna(inplace=True)\n",
    "df_movie_language.dropna(inplace=True)\n",
    "df_movie_country_language.dropna(inplace=True)"
   ]
  },
  {
   "cell_type": "code",
   "execution_count": 5,
   "metadata": {},
   "outputs": [
    {
     "name": "stdout",
     "output_type": "stream",
     "text": [
      "Number of rows where movie_countries list is empty:  131\n",
      "Number of rows where movie_languages list is empty:  344\n",
      "-----Preprocessed Data-----\n",
      "Number of rows where movie_countries list is empty:  0\n",
      "Number of rows where movie_languages list is empty:  0\n"
     ]
    }
   ],
   "source": [
    "# print the number of rows where the movie_countries list is empty\n",
    "print(\"Number of rows where movie_countries list is empty: \", df_movie_country[df_movie_country[\"movie_countries\"] == \"[]\"].shape[0])\n",
    "# print the number of rows where the movie_languages list is empty\n",
    "print(\"Number of rows where movie_languages list is empty: \", df_movie_language[df_movie_language[\"movie_languages\"] == \"[]\"].shape[0])\n",
    "\n",
    "# remove such rows\n",
    "df_movie_country = df_movie_country[df_movie_country[\"movie_countries\"].apply(lambda x: len(ast.literal_eval(x)) > 0)]\n",
    "df_movie_language = df_movie_language[df_movie_language[\"movie_languages\"].apply(lambda x: len(ast.literal_eval(x)) > 0)]\n",
    "\n",
    "# safety check\n",
    "print('-----Preprocessed Data-----')\n",
    "print(\"Number of rows where movie_countries list is empty: \", df_movie_country[df_movie_country[\"movie_countries\"] == \"[]\"].shape[0])\n",
    "print(\"Number of rows where movie_languages list is empty: \", df_movie_language[df_movie_language[\"movie_languages\"] == \"[]\"].shape[0])\n"
   ]
  },
  {
   "cell_type": "code",
   "execution_count": 6,
   "metadata": {},
   "outputs": [
    {
     "name": "stdout",
     "output_type": "stream",
     "text": [
      "Duplicates in df_movie_country:  15\n",
      "Duplicates in df_movie_language:  15\n",
      "Duplicates in df_movie_country_language:  12\n",
      "-----Preprocessed Data-----\n",
      "Duplicates in df_movie_country:  0\n",
      "Duplicates in df_movie_language:  0\n",
      "Duplicates in df_movie_country_language:  0\n"
     ]
    },
    {
     "name": "stderr",
     "output_type": "stream",
     "text": [
      "C:\\Users\\celin\\AppData\\Local\\Temp\\ipykernel_11536\\2100252554.py:9: SettingWithCopyWarning: \n",
      "A value is trying to be set on a copy of a slice from a DataFrame\n",
      "\n",
      "See the caveats in the documentation: https://pandas.pydata.org/pandas-docs/stable/user_guide/indexing.html#returning-a-view-versus-a-copy\n",
      "  df_movie_country_language.drop_duplicates(inplace=True)\n"
     ]
    }
   ],
   "source": [
    "# check for duplicates\n",
    "print(\"Duplicates in df_movie_country: \", df_movie_country.duplicated().sum())\n",
    "print(\"Duplicates in df_movie_language: \", df_movie_language.duplicated().sum())\n",
    "print(\"Duplicates in df_movie_country_language: \", df_movie_country_language.duplicated().sum())\n",
    "\n",
    "# remove duplicates\n",
    "df_movie_country.drop_duplicates(inplace=True)\n",
    "df_movie_language.drop_duplicates(inplace=True)\n",
    "df_movie_country_language.drop_duplicates(inplace=True)\n",
    "\n",
    "# safety check\n",
    "print('-----Preprocessed Data-----')\n",
    "print(\"Duplicates in df_movie_country: \", df_movie_country.duplicated().sum())\n",
    "print(\"Duplicates in df_movie_language: \", df_movie_language.duplicated().sum())\n",
    "print(\"Duplicates in df_movie_country_language: \", df_movie_country_language.duplicated().sum())"
   ]
  },
  {
   "cell_type": "code",
   "execution_count": 7,
   "metadata": {},
   "outputs": [
    {
     "data": {
      "text/html": [
       "<div>\n",
       "<style scoped>\n",
       "    .dataframe tbody tr th:only-of-type {\n",
       "        vertical-align: middle;\n",
       "    }\n",
       "\n",
       "    .dataframe tbody tr th {\n",
       "        vertical-align: top;\n",
       "    }\n",
       "\n",
       "    .dataframe thead th {\n",
       "        text-align: right;\n",
       "    }\n",
       "</style>\n",
       "<table border=\"1\" class=\"dataframe\">\n",
       "  <thead>\n",
       "    <tr style=\"text-align: right;\">\n",
       "      <th></th>\n",
       "      <th>movie_name</th>\n",
       "      <th>movie_countries</th>\n",
       "      <th>inflated_revenue</th>\n",
       "    </tr>\n",
       "  </thead>\n",
       "  <tbody>\n",
       "    <tr>\n",
       "      <th>0</th>\n",
       "      <td>Ghosts of Mars</td>\n",
       "      <td>[('/m/09c7w0', 'United States of America')]</td>\n",
       "      <td>1.899115e+07</td>\n",
       "    </tr>\n",
       "    <tr>\n",
       "      <th>1</th>\n",
       "      <td>Alexander's Ragtime Band</td>\n",
       "      <td>[('/m/09c7w0', 'United States of America')]</td>\n",
       "      <td>6.812740e+07</td>\n",
       "    </tr>\n",
       "    <tr>\n",
       "      <th>2</th>\n",
       "      <td>Henry V</td>\n",
       "      <td>[('/m/07ssc', 'United Kingdom')]</td>\n",
       "      <td>1.967252e+07</td>\n",
       "    </tr>\n",
       "    <tr>\n",
       "      <th>3</th>\n",
       "      <td>Mary Poppins</td>\n",
       "      <td>[('/m/09c7w0', 'United States of America')]</td>\n",
       "      <td>7.913870e+08</td>\n",
       "    </tr>\n",
       "    <tr>\n",
       "      <th>4</th>\n",
       "      <td>New Rose Hotel</td>\n",
       "      <td>[('/m/09c7w0', 'United States of America')]</td>\n",
       "      <td>3.100822e+04</td>\n",
       "    </tr>\n",
       "  </tbody>\n",
       "</table>\n",
       "</div>"
      ],
      "text/plain": [
       "                 movie_name                              movie_countries  \\\n",
       "0            Ghosts of Mars  [('/m/09c7w0', 'United States of America')]   \n",
       "1  Alexander's Ragtime Band  [('/m/09c7w0', 'United States of America')]   \n",
       "2                   Henry V             [('/m/07ssc', 'United Kingdom')]   \n",
       "3              Mary Poppins  [('/m/09c7w0', 'United States of America')]   \n",
       "4            New Rose Hotel  [('/m/09c7w0', 'United States of America')]   \n",
       "\n",
       "   inflated_revenue  \n",
       "0      1.899115e+07  \n",
       "1      6.812740e+07  \n",
       "2      1.967252e+07  \n",
       "3      7.913870e+08  \n",
       "4      3.100822e+04  "
      ]
     },
     "execution_count": 7,
     "metadata": {},
     "output_type": "execute_result"
    }
   ],
   "source": [
    "df_movie_country.head()"
   ]
  },
  {
   "cell_type": "code",
   "execution_count": 8,
   "metadata": {},
   "outputs": [
    {
     "data": {
      "text/html": [
       "<div>\n",
       "<style scoped>\n",
       "    .dataframe tbody tr th:only-of-type {\n",
       "        vertical-align: middle;\n",
       "    }\n",
       "\n",
       "    .dataframe tbody tr th {\n",
       "        vertical-align: top;\n",
       "    }\n",
       "\n",
       "    .dataframe thead th {\n",
       "        text-align: right;\n",
       "    }\n",
       "</style>\n",
       "<table border=\"1\" class=\"dataframe\">\n",
       "  <thead>\n",
       "    <tr style=\"text-align: right;\">\n",
       "      <th></th>\n",
       "      <th>movie_name</th>\n",
       "      <th>movie_languages</th>\n",
       "      <th>inflated_revenue</th>\n",
       "    </tr>\n",
       "  </thead>\n",
       "  <tbody>\n",
       "    <tr>\n",
       "      <th>0</th>\n",
       "      <td>Ghosts of Mars</td>\n",
       "      <td>[('/m/02h40lc', 'English Language')]</td>\n",
       "      <td>1.899115e+07</td>\n",
       "    </tr>\n",
       "    <tr>\n",
       "      <th>1</th>\n",
       "      <td>Alexander's Ragtime Band</td>\n",
       "      <td>[('/m/02h40lc', 'English Language')]</td>\n",
       "      <td>6.812740e+07</td>\n",
       "    </tr>\n",
       "    <tr>\n",
       "      <th>2</th>\n",
       "      <td>Henry V</td>\n",
       "      <td>[('/m/02h40lc', 'English Language')]</td>\n",
       "      <td>1.967252e+07</td>\n",
       "    </tr>\n",
       "    <tr>\n",
       "      <th>3</th>\n",
       "      <td>Mary Poppins</td>\n",
       "      <td>[('/m/02h40lc', 'English Language')]</td>\n",
       "      <td>7.913870e+08</td>\n",
       "    </tr>\n",
       "    <tr>\n",
       "      <th>4</th>\n",
       "      <td>New Rose Hotel</td>\n",
       "      <td>[('/m/02h40lc', 'English Language')]</td>\n",
       "      <td>3.100822e+04</td>\n",
       "    </tr>\n",
       "  </tbody>\n",
       "</table>\n",
       "</div>"
      ],
      "text/plain": [
       "                 movie_name                       movie_languages  \\\n",
       "0            Ghosts of Mars  [('/m/02h40lc', 'English Language')]   \n",
       "1  Alexander's Ragtime Band  [('/m/02h40lc', 'English Language')]   \n",
       "2                   Henry V  [('/m/02h40lc', 'English Language')]   \n",
       "3              Mary Poppins  [('/m/02h40lc', 'English Language')]   \n",
       "4            New Rose Hotel  [('/m/02h40lc', 'English Language')]   \n",
       "\n",
       "   inflated_revenue  \n",
       "0      1.899115e+07  \n",
       "1      6.812740e+07  \n",
       "2      1.967252e+07  \n",
       "3      7.913870e+08  \n",
       "4      3.100822e+04  "
      ]
     },
     "execution_count": 8,
     "metadata": {},
     "output_type": "execute_result"
    }
   ],
   "source": [
    "df_movie_language.head()"
   ]
  },
  {
   "cell_type": "code",
   "execution_count": 9,
   "metadata": {},
   "outputs": [
    {
     "data": {
      "text/html": [
       "<div>\n",
       "<style scoped>\n",
       "    .dataframe tbody tr th:only-of-type {\n",
       "        vertical-align: middle;\n",
       "    }\n",
       "\n",
       "    .dataframe tbody tr th {\n",
       "        vertical-align: top;\n",
       "    }\n",
       "\n",
       "    .dataframe thead th {\n",
       "        text-align: right;\n",
       "    }\n",
       "</style>\n",
       "<table border=\"1\" class=\"dataframe\">\n",
       "  <thead>\n",
       "    <tr style=\"text-align: right;\">\n",
       "      <th></th>\n",
       "      <th>movie_name</th>\n",
       "      <th>movie_languages</th>\n",
       "      <th>movie_countries</th>\n",
       "      <th>inflated_revenue</th>\n",
       "    </tr>\n",
       "  </thead>\n",
       "  <tbody>\n",
       "    <tr>\n",
       "      <th>0</th>\n",
       "      <td>Ghosts of Mars</td>\n",
       "      <td>[('/m/02h40lc', 'English Language')]</td>\n",
       "      <td>[('/m/09c7w0', 'United States of America')]</td>\n",
       "      <td>1.899115e+07</td>\n",
       "    </tr>\n",
       "    <tr>\n",
       "      <th>1</th>\n",
       "      <td>Alexander's Ragtime Band</td>\n",
       "      <td>[('/m/02h40lc', 'English Language')]</td>\n",
       "      <td>[('/m/09c7w0', 'United States of America')]</td>\n",
       "      <td>6.812740e+07</td>\n",
       "    </tr>\n",
       "    <tr>\n",
       "      <th>2</th>\n",
       "      <td>Henry V</td>\n",
       "      <td>[('/m/02h40lc', 'English Language')]</td>\n",
       "      <td>[('/m/07ssc', 'United Kingdom')]</td>\n",
       "      <td>1.967252e+07</td>\n",
       "    </tr>\n",
       "    <tr>\n",
       "      <th>3</th>\n",
       "      <td>Mary Poppins</td>\n",
       "      <td>[('/m/02h40lc', 'English Language')]</td>\n",
       "      <td>[('/m/09c7w0', 'United States of America')]</td>\n",
       "      <td>7.913870e+08</td>\n",
       "    </tr>\n",
       "    <tr>\n",
       "      <th>4</th>\n",
       "      <td>New Rose Hotel</td>\n",
       "      <td>[('/m/02h40lc', 'English Language')]</td>\n",
       "      <td>[('/m/09c7w0', 'United States of America')]</td>\n",
       "      <td>3.100822e+04</td>\n",
       "    </tr>\n",
       "  </tbody>\n",
       "</table>\n",
       "</div>"
      ],
      "text/plain": [
       "                 movie_name                       movie_languages  \\\n",
       "0            Ghosts of Mars  [('/m/02h40lc', 'English Language')]   \n",
       "1  Alexander's Ragtime Band  [('/m/02h40lc', 'English Language')]   \n",
       "2                   Henry V  [('/m/02h40lc', 'English Language')]   \n",
       "3              Mary Poppins  [('/m/02h40lc', 'English Language')]   \n",
       "4            New Rose Hotel  [('/m/02h40lc', 'English Language')]   \n",
       "\n",
       "                               movie_countries  inflated_revenue  \n",
       "0  [('/m/09c7w0', 'United States of America')]      1.899115e+07  \n",
       "1  [('/m/09c7w0', 'United States of America')]      6.812740e+07  \n",
       "2             [('/m/07ssc', 'United Kingdom')]      1.967252e+07  \n",
       "3  [('/m/09c7w0', 'United States of America')]      7.913870e+08  \n",
       "4  [('/m/09c7w0', 'United States of America')]      3.100822e+04  "
      ]
     },
     "execution_count": 9,
     "metadata": {},
     "output_type": "execute_result"
    }
   ],
   "source": [
    "df_movie_country_language.head()"
   ]
  },
  {
   "cell_type": "markdown",
   "metadata": {},
   "source": [
    "### Some intial exploration"
   ]
  },
  {
   "cell_type": "markdown",
   "metadata": {},
   "source": [
    "How many countries/ languages does the dataset have? Which ones are the most common one?"
   ]
  },
  {
   "cell_type": "markdown",
   "metadata": {},
   "source": [
    "<div class=\"alert alert-success\">\n",
    "\n",
    "  💭 <strong>Idea:</strong>\n",
    "\n",
    "  - Analyse the number of countries and languages in the dataset\n",
    "  - Think about how this distribution could influence/ change further analysis\n",
    "  \n",
    "</div>"
   ]
  },
  {
   "cell_type": "markdown",
   "metadata": {},
   "source": [
    "<div class=\"alert alert-warning\">\n",
    "\n",
    "  🛠️ <strong>Methods:</strong>\n",
    "  - Extract the unique country and language names and print the absolute frequency for the most common ones\n",
    "  - Print the total number of different countries and languages\n",
    "  - Visualization: Plot the most common countries and languages in a bar chart\n",
    "</div>"
   ]
  },
  {
   "cell_type": "code",
   "execution_count": 10,
   "metadata": {},
   "outputs": [],
   "source": [
    "def extract_names(columns):\n",
    "    \"\"\"\n",
    "    Extracts the names from columns of the data (for countries and languages for example)\n",
    "    Args:\n",
    "        columns: list of columns\n",
    "    Returns:\n",
    "        names: list of names\n",
    "    \"\"\"\n",
    "    names = []\n",
    "    for column in columns:\n",
    "        literals = ast.literal_eval(column)\n",
    "        names.extend([literals[1] for literals in literals])\n",
    "    return names\n"
   ]
  },
  {
   "cell_type": "code",
   "execution_count": 11,
   "metadata": {},
   "outputs": [
    {
     "name": "stdout",
     "output_type": "stream",
     "text": [
      "Top 10 countries:\n",
      "United States of America    7691\n",
      "United Kingdom              1121\n",
      "France                       634\n",
      "Germany                      519\n",
      "Canada                       388\n",
      "South Korea                  282\n",
      "Japan                        237\n",
      "Australia                    216\n",
      "Italy                        196\n",
      "India                        134\n",
      "Name: count, dtype: int64\n",
      "Top 10 languages:\n",
      "English Language     8344\n",
      "French Language       644\n",
      "Spanish Language      484\n",
      "German Language       308\n",
      "Italian Language      279\n",
      "Korean Language       258\n",
      "Japanese Language     256\n",
      "Russian Language      217\n",
      "Standard Mandarin     145\n",
      "Hindi Language        103\n",
      "Name: count, dtype: int64\n"
     ]
    }
   ],
   "source": [
    "# extract all possible countries and languages\n",
    "countries = extract_names(df_movie_country_language['movie_countries'])\n",
    "languages = extract_names(df_movie_country_language['movie_languages'])\n",
    "\n",
    "# count \n",
    "countries_count = pd.Series(countries).value_counts()\n",
    "languages_count = pd.Series(languages).value_counts()\n",
    "\n",
    "# print the top 10 countries and languages\n",
    "print(f'Top 10 countries:\\n{countries_count.head(10)}')\n",
    "print(f'Top 10 languages:\\n{languages_count.head(10)}')"
   ]
  },
  {
   "cell_type": "code",
   "execution_count": 12,
   "metadata": {},
   "outputs": [
    {
     "name": "stdout",
     "output_type": "stream",
     "text": [
      "Number of different countries: 106\n",
      "Number of different languages: 158\n"
     ]
    }
   ],
   "source": [
    "# print the number of different countries and languages\n",
    "print(f'Number of different countries: {len(countries_count)}')\n",
    "print(f'Number of different languages: {len(languages_count)}')"
   ]
  },
  {
   "cell_type": "code",
   "execution_count": 13,
   "metadata": {},
   "outputs": [
    {
     "name": "stderr",
     "output_type": "stream",
     "text": [
      "C:\\Users\\celin\\AppData\\Local\\Temp\\ipykernel_11536\\951938130.py:5: FutureWarning: \n",
      "\n",
      "Passing `palette` without assigning `hue` is deprecated and will be removed in v0.14.0. Assign the `y` variable to `hue` and set `legend=False` for the same effect.\n",
      "\n",
      "  sns.barplot(x=countries_count.head(top_n).values, y=countries_count.head(top_n).index, palette='Set2')\n"
     ]
    },
    {
     "data": {
      "image/png": "[encoded data removed]",
      "text/plain": [
       "<Figure size 1000x500 with 1 Axes>"
      ]
     },
     "metadata": {},
     "output_type": "display_data"
    }
   ],
   "source": [
    "top_n = 10\n",
    "\n",
    "# plot the top 10 countries\n",
    "plt.figure(figsize=(10, 5))\n",
    "sns.barplot(x=countries_count.head(top_n).values, y=countries_count.head(top_n).index, palette='Set2')\n",
    "plt.title('Top 10 movie countries', fontweight='bold')\n",
    "plt.xlabel('Number of movies')\n",
    "plt.ylabel('Country')\n",
    "plt.show()\n"
   ]
  },
  {
   "cell_type": "code",
   "execution_count": 14,
   "metadata": {},
   "outputs": [
    {
     "name": "stderr",
     "output_type": "stream",
     "text": [
      "C:\\Users\\celin\\AppData\\Local\\Temp\\ipykernel_11536\\1011090576.py:3: FutureWarning: \n",
      "\n",
      "Passing `palette` without assigning `hue` is deprecated and will be removed in v0.14.0. Assign the `y` variable to `hue` and set `legend=False` for the same effect.\n",
      "\n",
      "  sns.barplot(x=languages_count.head(top_n).values, y=languages_count.head(top_n).index, palette='Set2')\n"
     ]
    },
    {
     "data": {
      "image/png": "[encoded data removed]",
      "text/plain": [
       "<Figure size 1000x500 with 1 Axes>"
      ]
     },
     "metadata": {},
     "output_type": "display_data"
    }
   ],
   "source": [
    "# plot the top 10 languages\n",
    "plt.figure(figsize=(10, 5))\n",
    "sns.barplot(x=languages_count.head(top_n).values, y=languages_count.head(top_n).index, palette='Set2')\n",
    "plt.title('Top 10 movie languages', fontweight='bold')\n",
    "plt.xlabel('Number of movies')\n",
    "plt.ylabel('Language')\n",
    "plt.show()"
   ]
  },
  {
   "cell_type": "markdown",
   "metadata": {},
   "source": [
    "<div class=\"alert alert-info\">\n",
    "  💡 <strong>Discussion:</strong>\n",
    "\n",
    "  - Analysis of what has been found\n",
    "    - Why is the language 'Spanish' on the third place but no spanish speaking country in the top 10?\n",
    "</div>"
   ]
  },
  {
   "cell_type": "markdown",
   "metadata": {},
   "source": [
    "### Language influence"
   ]
  },
  {
   "cell_type": "markdown",
   "metadata": {},
   "source": [
    "How does the language influence the box office revenue? Do movies in widely spoken languages (for example English) tend to have higher box office revenue?"
   ]
  },
  {
   "cell_type": "markdown",
   "metadata": {},
   "source": [
    "<div class=\"alert alert-success\">\n",
    "\n",
    "  💭 <strong>Idea:</strong>\n",
    "\n",
    "  - Analyse the influence of the language on the box office revenue\n",
    "  - Only consider the first mentioned language in the list of languages\n",
    "  \n",
    "</div>"
   ]
  },
  {
   "cell_type": "markdown",
   "metadata": {},
   "source": [
    "<div class=\"alert alert-warning\">\n",
    "\n",
    "  🛠️ <strong>Methods:</strong>\n",
    "  - Extract the first language in the language list for each movie\n",
    "  - Visualization: Plot the languages and their average box office revenue in a bar chart\n",
    "  - Regression analysis\n",
    "  - Statistical hypothesis testing: ANOVA\n",
    "  \n",
    "</div>"
   ]
  },
  {
   "cell_type": "code",
   "execution_count": 15,
   "metadata": {},
   "outputs": [],
   "source": [
    "def extract_first_language(language_list):\n",
    "    \"\"\"\n",
    "    Extract only the first language of the list of all languages\n",
    "    Args:\n",
    "        language_list: a list of all languages for a movie\n",
    "    Returns:\n",
    "        first_language: the first language for the given movie\n",
    "    \"\"\"\n",
    "    parsed_language_list = ast.literal_eval(language_list)\n",
    "    first_language = parsed_language_list[0][1]\n",
    "\n",
    "    return first_language "
   ]
  },
  {
   "cell_type": "code",
   "execution_count": 16,
   "metadata": {},
   "outputs": [
    {
     "data": {
      "text/html": [
       "<div>\n",
       "<style scoped>\n",
       "    .dataframe tbody tr th:only-of-type {\n",
       "        vertical-align: middle;\n",
       "    }\n",
       "\n",
       "    .dataframe tbody tr th {\n",
       "        vertical-align: top;\n",
       "    }\n",
       "\n",
       "    .dataframe thead th {\n",
       "        text-align: right;\n",
       "    }\n",
       "</style>\n",
       "<table border=\"1\" class=\"dataframe\">\n",
       "  <thead>\n",
       "    <tr style=\"text-align: right;\">\n",
       "      <th></th>\n",
       "      <th>movie_name</th>\n",
       "      <th>movie_languages</th>\n",
       "      <th>first_language</th>\n",
       "    </tr>\n",
       "  </thead>\n",
       "  <tbody>\n",
       "    <tr>\n",
       "      <th>0</th>\n",
       "      <td>Ghosts of Mars</td>\n",
       "      <td>[('/m/02h40lc', 'English Language')]</td>\n",
       "      <td>English Language</td>\n",
       "    </tr>\n",
       "    <tr>\n",
       "      <th>1</th>\n",
       "      <td>Alexander's Ragtime Band</td>\n",
       "      <td>[('/m/02h40lc', 'English Language')]</td>\n",
       "      <td>English Language</td>\n",
       "    </tr>\n",
       "    <tr>\n",
       "      <th>2</th>\n",
       "      <td>Henry V</td>\n",
       "      <td>[('/m/02h40lc', 'English Language')]</td>\n",
       "      <td>English Language</td>\n",
       "    </tr>\n",
       "    <tr>\n",
       "      <th>3</th>\n",
       "      <td>Mary Poppins</td>\n",
       "      <td>[('/m/02h40lc', 'English Language')]</td>\n",
       "      <td>English Language</td>\n",
       "    </tr>\n",
       "    <tr>\n",
       "      <th>4</th>\n",
       "      <td>New Rose Hotel</td>\n",
       "      <td>[('/m/02h40lc', 'English Language')]</td>\n",
       "      <td>English Language</td>\n",
       "    </tr>\n",
       "    <tr>\n",
       "      <th>5</th>\n",
       "      <td>Baby Boy</td>\n",
       "      <td>[('/m/02h40lc', 'English Language')]</td>\n",
       "      <td>English Language</td>\n",
       "    </tr>\n",
       "    <tr>\n",
       "      <th>6</th>\n",
       "      <td>They Knew What They Wanted</td>\n",
       "      <td>[('/m/02h40lc', 'English Language')]</td>\n",
       "      <td>English Language</td>\n",
       "    </tr>\n",
       "    <tr>\n",
       "      <th>7</th>\n",
       "      <td>The Gods Must Be Crazy</td>\n",
       "      <td>[('/m/0x82', 'Afrikaans Language'), ('/m/02h40...</td>\n",
       "      <td>Afrikaans Language</td>\n",
       "    </tr>\n",
       "    <tr>\n",
       "      <th>8</th>\n",
       "      <td>Rudo y Cursi</td>\n",
       "      <td>[('/m/06nm1', 'Spanish Language')]</td>\n",
       "      <td>Spanish Language</td>\n",
       "    </tr>\n",
       "    <tr>\n",
       "      <th>9</th>\n",
       "      <td>Kinjite: Forbidden Subjects</td>\n",
       "      <td>[('/m/02h40lc', 'English Language')]</td>\n",
       "      <td>English Language</td>\n",
       "    </tr>\n",
       "  </tbody>\n",
       "</table>\n",
       "</div>"
      ],
      "text/plain": [
       "                    movie_name  \\\n",
       "0               Ghosts of Mars   \n",
       "1     Alexander's Ragtime Band   \n",
       "2                      Henry V   \n",
       "3                 Mary Poppins   \n",
       "4               New Rose Hotel   \n",
       "5                     Baby Boy   \n",
       "6   They Knew What They Wanted   \n",
       "7       The Gods Must Be Crazy   \n",
       "8                 Rudo y Cursi   \n",
       "9  Kinjite: Forbidden Subjects   \n",
       "\n",
       "                                     movie_languages      first_language  \n",
       "0               [('/m/02h40lc', 'English Language')]    English Language  \n",
       "1               [('/m/02h40lc', 'English Language')]    English Language  \n",
       "2               [('/m/02h40lc', 'English Language')]    English Language  \n",
       "3               [('/m/02h40lc', 'English Language')]    English Language  \n",
       "4               [('/m/02h40lc', 'English Language')]    English Language  \n",
       "5               [('/m/02h40lc', 'English Language')]    English Language  \n",
       "6               [('/m/02h40lc', 'English Language')]    English Language  \n",
       "7  [('/m/0x82', 'Afrikaans Language'), ('/m/02h40...  Afrikaans Language  \n",
       "8                 [('/m/06nm1', 'Spanish Language')]    Spanish Language  \n",
       "9               [('/m/02h40lc', 'English Language')]    English Language  "
      ]
     },
     "execution_count": 16,
     "metadata": {},
     "output_type": "execute_result"
    }
   ],
   "source": [
    "# extract the first language for each movie\n",
    "df_movie_language['first_language'] = df_movie_language['movie_languages'].apply(extract_first_language)\n",
    "\n",
    "# check \n",
    "df_movie_language[['movie_name', 'movie_languages', 'first_language']].head(10)\n"
   ]
  },
  {
   "cell_type": "code",
   "execution_count": 17,
   "metadata": {},
   "outputs": [],
   "source": [
    "# average box office revenue per language (only considering the fist languages for each movie)\n",
    "average_revenue_per_language = df_movie_language.groupby('first_language')['inflated_revenue'].mean().sort_values(ascending=False)"
   ]
  },
  {
   "cell_type": "code",
   "execution_count": 18,
   "metadata": {},
   "outputs": [
    {
     "name": "stderr",
     "output_type": "stream",
     "text": [
      "C:\\Users\\celin\\AppData\\Local\\Temp\\ipykernel_11536\\1030048985.py:5: FutureWarning: \n",
      "\n",
      "Passing `palette` without assigning `hue` is deprecated and will be removed in v0.14.0. Assign the `x` variable to `hue` and set `legend=False` for the same effect.\n",
      "\n",
      "  sns.barplot(x=average_revenue_per_language.head(top_n).index, y=average_revenue_per_language.head(top_n).values, palette=\"plasma\")\n"
     ]
    },
    {
     "data": {
      "image/png": "[encoded data removed]",
      "text/plain": [
       "<Figure size 1200x600 with 1 Axes>"
      ]
     },
     "metadata": {},
     "output_type": "display_data"
    }
   ],
   "source": [
    "# plot\n",
    "top_n = 10\n",
    "\n",
    "plt.figure(figsize=(12, 6))\n",
    "sns.barplot(x=average_revenue_per_language.head(top_n).index, y=average_revenue_per_language.head(top_n).values, palette=\"plasma\")\n",
    "plt.title(\"Top 10 Languages with Highest Average Box Office Revenue\", fontweight='bold')\n",
    "plt.xlabel(\"Language\")\n",
    "plt.ylabel(\"Average Box Office Revenue\")\n",
    "plt.xticks(rotation=45)\n",
    "plt.show()"
   ]
  },
  {
   "cell_type": "markdown",
   "metadata": {},
   "source": [
    "##### Regression analysis\n",
    "\n",
    "The language (categorical) should predict the box office revenue (continuous). An ordinary least squares (OLS) regression can be done. The categorical variable has to be one-hot encoded. Each language will get an own coefficient, indicating its influence on the box office revenue compared to the baseline language."
   ]
  },
  {
   "cell_type": "code",
   "execution_count": 19,
   "metadata": {},
   "outputs": [
    {
     "name": "stdout",
     "output_type": "stream",
     "text": [
      "                            OLS Regression Results                            \n",
      "==============================================================================\n",
      "Dep. Variable:       inflated_revenue   R-squared:                       0.034\n",
      "Model:                            OLS   Adj. R-squared:                  0.023\n",
      "Method:                 Least Squares   F-statistic:                     3.028\n",
      "Date:                Wed, 13 Nov 2024   Prob (F-statistic):           4.01e-23\n",
      "Time:                        21:31:40   Log-Likelihood:                -13691.\n",
      "No. Observations:                9220   AIC:                         2.760e+04\n",
      "Df Residuals:                    9112   BIC:                         2.837e+04\n",
      "Df Model:                         107                                         \n",
      "Covariance Type:            nonrobust                                         \n",
      "=================================================================================================\n",
      "                                    coef    std err          t      P>|t|      [0.025      0.975]\n",
      "-------------------------------------------------------------------------------------------------\n",
      "const                             7.4426      0.439     16.966      0.000       6.583       8.303\n",
      "Albanian language                 0.0295      0.760      0.039      0.969      -1.460       1.519\n",
      "Algonquin Language                0.1317      1.161      0.114      0.910      -2.143       2.407\n",
      "American English                 -1.1321      0.566     -1.999      0.046      -2.242      -0.022\n",
      "American Sign Language            0.2965      0.877      0.338      0.735      -1.423       2.016\n",
      "Apache, Western Language          0.0835      0.877      0.095      0.924      -1.636       1.803\n",
      "Arabic Language                   0.0911      0.463      0.197      0.844      -0.817       0.999\n",
      "Aramaic language                  0.0929      0.760      0.122      0.903      -1.397       1.582\n",
      "Armenian Language                 0.5571      0.877      0.635      0.525      -1.163       2.277\n",
      "Assyrian language                 1.4481      1.161      1.248      0.212      -0.827       3.723\n",
      "Australian English               -0.6857      1.161     -0.591      0.555      -2.961       1.589\n",
      "Bambara language                 -2.0069      1.161     -1.729      0.084      -4.282       0.268\n",
      "Bengali Language                 -0.9397      0.760     -1.237      0.216      -2.429       0.550\n",
      "Bosnian language                 -1.3924      1.161     -1.200      0.230      -3.668       0.883\n",
      "Bulgarian Language               -1.0599      1.161     -0.913      0.361      -3.335       1.215\n",
      "Burmese Language                 -0.0904      0.877     -0.103      0.918      -1.810       1.629\n",
      "Cantonese                        -0.1648      0.524     -0.314      0.753      -1.193       0.863\n",
      "Catalan language                 -0.2313      0.760     -0.304      0.761      -1.721       1.258\n",
      "Chechen Language                 -2.0413      0.760     -2.687      0.007      -3.531      -0.552\n",
      "Chinese language                  0.1753      0.510      0.344      0.731      -0.825       1.176\n",
      "Cree language                    -1.2344      1.161     -1.064      0.288      -3.510       1.041\n",
      "Croatian language                 0.7951      0.694      1.146      0.252      -0.565       2.155\n",
      "Crow Language                    -5.7231      1.161     -4.931      0.000      -7.998      -3.448\n",
      "Czech Language                   -0.3235      0.500     -0.647      0.518      -1.304       0.657\n",
      "Danish Language                  -1.4121      0.651     -2.170      0.030      -2.688      -0.137\n",
      "Dutch Language                   -0.5398      0.537     -1.005      0.315      -1.593       0.513\n",
      "English Language                 -0.2769      0.439     -0.631      0.528      -1.137       0.583\n",
      "Esperanto Language                0.2582      0.651      0.397      0.691      -1.017       1.534\n",
      "Estonian Language                 0.6160      0.694      0.888      0.375      -0.744       1.976\n",
      "Filipino language                 0.4415      0.877      0.503      0.615      -1.278       2.161\n",
      "Finnish Language                 -0.7205      0.555     -1.298      0.194      -1.808       0.367\n",
      "France                            0.0527      0.877      0.060      0.952      -1.667       1.773\n",
      "French Language                  -0.2377      0.441     -0.539      0.590      -1.102       0.626\n",
      "French Sign Language             -2.3196      1.161     -1.999      0.046      -4.595      -0.044\n",
      "Friulian Language                -1.0405      1.161     -0.896      0.370      -3.316       1.235\n",
      "Gaelic                            1.1821      1.161      1.019      0.308      -1.093       3.457\n",
      "Galician Language                 0.2473      1.161      0.213      0.831      -2.028       2.522\n",
      "Georgian Language                -1.9346      1.161     -1.667      0.096      -4.210       0.341\n",
      "German                            0.9471      0.877      1.079      0.280      -0.773       2.667\n",
      "German Language                  -0.3150      0.453     -0.695      0.487      -1.203       0.573\n",
      "Greek Language                    0.0880      0.497      0.177      0.860      -0.887       1.063\n",
      "Gumatj Language                  -4.4838      1.161     -3.863      0.000      -6.759      -2.209\n",
      "Hebrew Language                  -0.2417      0.495     -0.488      0.625      -1.212       0.728\n",
      "Hindi Language                   -0.6405      0.452     -1.416      0.157      -1.527       0.246\n",
      "Hmong language                    1.0359      1.161      0.892      0.372      -1.239       3.311\n",
      "Hopi Language                    -1.7045      0.760     -2.243      0.025      -3.194      -0.215\n",
      "Icelandic Language               -0.6682      0.598     -1.118      0.264      -1.840       0.504\n",
      "Indonesian Language              -0.1816      0.877     -0.207      0.836      -1.901       1.538\n",
      "Inuktitut                         0.0912      0.651      0.140      0.889      -1.184       1.367\n",
      "Irish                             0.1292      0.566      0.228      0.820      -0.981       1.239\n",
      "Italian Language                 -0.0765      0.447     -0.171      0.864      -0.952       0.799\n",
      "Japanese Language                -0.1805      0.445     -0.406      0.685      -1.052       0.691\n",
      "Khmer language                   -0.6453      1.161     -0.556      0.578      -2.920       1.630\n",
      "Klingon language                  0.6416      0.694      0.925      0.355      -0.718       2.001\n",
      "Korean Language                  -0.7378      0.444     -1.661      0.097      -1.609       0.133\n",
      "Korean Sign Language              0.6003      1.161      0.517      0.605      -1.675       2.875\n",
      "Latin Language                    0.3109      0.507      0.614      0.539      -0.682       1.304\n",
      "Malayalam Language               -1.1622      0.760     -1.530      0.126      -2.652       0.327\n",
      "Mandarin Chinese                 -0.8975      0.598     -1.501      0.133      -2.069       0.274\n",
      "Maya, Yucatán Language            0.7130      1.161      0.614      0.539      -1.562       2.988\n",
      "Mende Language                    0.6013      1.161      0.518      0.604      -1.674       2.876\n",
      "Min Nan                          -1.0884      1.161     -0.938      0.348      -3.364       1.187\n",
      "Mongolian language               -0.1433      0.760     -0.189      0.850      -1.633       1.346\n",
      "Māori language                    0.0848      0.760      0.112      0.911      -1.405       1.574\n",
      "Napoletano-Calabrese Language     0.1466      1.161      0.126      0.900      -2.129       2.422\n",
      "Navajo Language                   0.6849      1.161      0.590      0.555      -1.590       2.960\n",
      "Norwegian Language               -0.5919      0.598     -0.990      0.322      -1.764       0.580\n",
      "Old English language              1.4279      0.760      1.879      0.060      -0.062       2.917\n",
      "Osetin Language                  -0.4220      1.161     -0.364      0.716      -2.697       1.853\n",
      "Persian Language                 -0.9580      0.507     -1.891      0.059      -1.951       0.035\n",
      "Polish Language                  -0.4471      0.530     -0.843      0.399      -1.487       0.593\n",
      "Portuguese Language              -0.3254      0.489     -0.666      0.505      -1.283       0.632\n",
      "Punjabi language                 -0.8460      0.877     -0.964      0.335      -2.566       0.874\n",
      "Quechua                          -0.8842      0.877     -1.008      0.314      -2.604       0.836\n",
      "Romani language                  -0.4752      0.760     -0.625      0.532      -1.965       1.014\n",
      "Romanian Language                -0.9016      0.555     -1.625      0.104      -1.989       0.186\n",
      "Russian Language                  0.0220      0.454      0.048      0.961      -0.869       0.913\n",
      "Saami, North Language            -1.8248      1.161     -1.572      0.116      -4.100       0.450\n",
      "Scottish Gaelic language          0.1405      0.760      0.185      0.853      -1.349       1.630\n",
      "Serbian language                 -2.7431      0.760     -3.610      0.000      -4.233      -1.254\n",
      "Serbo-Croatian                   -1.2593      0.651     -1.935      0.053      -2.535       0.016\n",
      "Silent film                      -0.4133      0.476     -0.869      0.385      -1.346       0.519\n",
      "Sinhala Language                  1.4435      1.161      1.244      0.214      -0.832       3.719\n",
      "Sioux language                    0.6868      0.694      0.990      0.322      -0.673       2.046\n",
      "Slovak Language                  -1.3976      0.877     -1.593      0.111      -3.117       0.322\n",
      "Somali Language                   0.5031      0.877      0.573      0.566      -1.217       2.223\n",
      "Spanish Language                 -0.4286      0.464     -0.923      0.356      -1.339       0.481\n",
      "Standard Cantonese               -0.5222      0.493     -1.060      0.289      -1.488       0.443\n",
      "Standard Mandarin                 0.0076      0.460      0.017      0.987      -0.895       0.910\n",
      "Sumerian                          0.2328      1.161      0.201      0.841      -2.042       2.508\n",
      "Swahili Language                  0.7199      0.651      1.106      0.269      -0.556       1.995\n",
      "Swedish Language                 -0.2851      0.489     -0.584      0.559      -1.243       0.672\n",
      "Tagalog language                 -1.9003      0.694     -2.740      0.006      -3.260      -0.541\n",
      "Taiwanese                        -0.7573      1.161     -0.652      0.514      -3.032       1.518\n",
      "Tamil Language                   -1.1262      0.475     -2.372      0.018      -2.057      -0.195\n",
      "Telugu language                  -0.6566      0.694     -0.947      0.344      -2.016       0.703\n",
      "Thai Language                    -1.2244      0.620     -1.974      0.048      -2.441      -0.008\n",
      "Tibetan languages                 0.5008      0.651      0.770      0.442      -0.775       1.776\n",
      "Tok Pisin Language                0.7172      1.161      0.618      0.537      -1.558       2.992\n",
      "Turkish Language                 -1.1092      0.495     -2.241      0.025      -2.079      -0.139\n",
      "Tzotzil language                 -1.3085      1.161     -1.127      0.260      -3.584       0.967\n",
      "Ukrainian Language               -0.0867      0.545     -0.159      0.874      -1.156       0.982\n",
      "Urdu Language                    -0.2208      0.760     -0.291      0.771      -1.710       1.269\n",
      "Vietnamese Language               0.0656      0.537      0.122      0.903      -0.988       1.119\n",
      "Welsh Language                   -0.3165      0.760     -0.417      0.677      -1.806       1.173\n",
      "Xhosa Language                    0.4622      0.694      0.666      0.505      -0.897       1.822\n",
      "Yiddish Language                 -0.5504      0.555     -0.992      0.321      -1.638       0.537\n",
      "Zulu Language                     0.6396      0.877      0.729      0.466      -1.080       2.359\n",
      "==============================================================================\n",
      "Omnibus:                     3134.438   Durbin-Watson:                   1.984\n",
      "Prob(Omnibus):                  0.000   Jarque-Bera (JB):            14221.715\n",
      "Skew:                          -1.603   Prob(JB):                         0.00\n",
      "Kurtosis:                       8.172   Cond. No.                         529.\n",
      "==============================================================================\n",
      "\n",
      "Notes:\n",
      "[1] Standard Errors assume that the covariance matrix of the errors is correctly specified.\n"
     ]
    }
   ],
   "source": [
    "# one-hot encode the language column\n",
    "# baseline language -> the most common language\n",
    "X = pd.get_dummies(df_movie_language['first_language'], drop_first=True).astype(int)\n",
    "\n",
    "y = np.log10(df_movie_language['inflated_revenue'].astype(float))\n",
    "\n",
    "# Add intercept\n",
    "X = sm.add_constant(X)\n",
    "\n",
    "# Fit the model\n",
    "model = sm.OLS(y, X).fit()\n",
    "print(model.summary())"
   ]
  },
  {
   "cell_type": "code",
   "execution_count": null,
   "metadata": {},
   "outputs": [],
   "source": [
    "# todoooooooo -> take a threshold and remove the languages with less than that threshold"
   ]
  },
  {
   "cell_type": "markdown",
   "metadata": {},
   "source": [
    "##### ANOVA\n",
    "\n",
    "An ANOVA analysis can be done in order to determine if there are statistically significant differences in box office revenue across different languages."
   ]
  },
  {
   "cell_type": "code",
   "execution_count": null,
   "metadata": {},
   "outputs": [
    {
     "name": "stdout",
     "output_type": "stream",
     "text": [
      "                         sum_sq      df         F        PR(>F)\n",
      "C(first_language)  9.263444e+18   107.0  2.203867  1.716580e-11\n",
      "Residual           3.579455e+20  9112.0       NaN           NaN\n"
     ]
    }
   ],
   "source": [
    "# define and fit the model\n",
    "anova_model = ols('inflated_revenue ~ C(first_language)', data=df_movie_language).fit()\n",
    "# get the anova table\n",
    "anova_table = sm.stats.anova_lm(anova_model, typ=2)\n",
    "\n",
    "print(anova_table)"
   ]
  },
  {
   "cell_type": "markdown",
   "metadata": {},
   "source": [
    "<div class=\"alert alert-info\">\n",
    "  💡 <strong>Discussion:</strong>\n",
    "\n",
    "  - Analysis of what has been found\n",
    "  \n",
    "</div>"
   ]
  },
  {
   "cell_type": "markdown",
   "metadata": {},
   "source": [
    "### Country influence"
   ]
  },
  {
   "cell_type": "markdown",
   "metadata": {},
   "source": [
    "<div class=\"alert alert-success\">\n",
    "\n",
    "  💭 <strong>Idea:</strong>\n",
    "\n",
    "  - Analyse the influence of the country on the box office revenue\n",
    "  - Only consider the first mentioned country in the list of countries\n",
    "  \n",
    "</div>"
   ]
  },
  {
   "cell_type": "markdown",
   "metadata": {},
   "source": [
    "<div class=\"alert alert-warning\">\n",
    "\n",
    "  🛠️ <strong>Methods:</strong>\n",
    "  - Extract the first country in the country list for each movie\n",
    "  - Visualization: Plot the countries and their average box office revenue in a bar chart\n",
    "  - Regression analysis\n",
    "  - Statistical hypothesis testing: ANOVA\n",
    "  \n",
    "</div>"
   ]
  },
  {
   "cell_type": "code",
   "execution_count": 22,
   "metadata": {},
   "outputs": [
    {
     "name": "stdout",
     "output_type": "stream",
     "text": [
      "Number of rows with more than one country: 2198\n"
     ]
    }
   ],
   "source": [
    "# check if some rows have multiple countries (in the list of countries)\n",
    "num_rows_with_multiple_countries = df_movie_country[\"movie_countries\"].apply(lambda x: len(ast.literal_eval(x)) > 1).sum()\n",
    "print(\"Number of rows with more than one country:\", num_rows_with_multiple_countries)"
   ]
  },
  {
   "cell_type": "code",
   "execution_count": 23,
   "metadata": {},
   "outputs": [],
   "source": [
    "def extract_first_country(country_list):\n",
    "    \"\"\"\n",
    "    Extract only the first country of the list of all countries\n",
    "    Args:\n",
    "        country_list: a list of all countries for a movie\n",
    "    Returns:\n",
    "        first_country: the first country for the given movie\n",
    "    \"\"\"\n",
    "    parsed_country_list = ast.literal_eval(country_list)\n",
    "    first_country = parsed_country_list[0][1]\n",
    "\n",
    "    return first_country "
   ]
  },
  {
   "cell_type": "code",
   "execution_count": 24,
   "metadata": {},
   "outputs": [
    {
     "data": {
      "text/html": [
       "<div>\n",
       "<style scoped>\n",
       "    .dataframe tbody tr th:only-of-type {\n",
       "        vertical-align: middle;\n",
       "    }\n",
       "\n",
       "    .dataframe tbody tr th {\n",
       "        vertical-align: top;\n",
       "    }\n",
       "\n",
       "    .dataframe thead th {\n",
       "        text-align: right;\n",
       "    }\n",
       "</style>\n",
       "<table border=\"1\" class=\"dataframe\">\n",
       "  <thead>\n",
       "    <tr style=\"text-align: right;\">\n",
       "      <th></th>\n",
       "      <th>movie_name</th>\n",
       "      <th>movie_countries</th>\n",
       "      <th>first_country</th>\n",
       "    </tr>\n",
       "  </thead>\n",
       "  <tbody>\n",
       "    <tr>\n",
       "      <th>0</th>\n",
       "      <td>Ghosts of Mars</td>\n",
       "      <td>[('/m/09c7w0', 'United States of America')]</td>\n",
       "      <td>United States of America</td>\n",
       "    </tr>\n",
       "    <tr>\n",
       "      <th>1</th>\n",
       "      <td>Alexander's Ragtime Band</td>\n",
       "      <td>[('/m/09c7w0', 'United States of America')]</td>\n",
       "      <td>United States of America</td>\n",
       "    </tr>\n",
       "    <tr>\n",
       "      <th>2</th>\n",
       "      <td>Henry V</td>\n",
       "      <td>[('/m/07ssc', 'United Kingdom')]</td>\n",
       "      <td>United Kingdom</td>\n",
       "    </tr>\n",
       "    <tr>\n",
       "      <th>3</th>\n",
       "      <td>Mary Poppins</td>\n",
       "      <td>[('/m/09c7w0', 'United States of America')]</td>\n",
       "      <td>United States of America</td>\n",
       "    </tr>\n",
       "    <tr>\n",
       "      <th>4</th>\n",
       "      <td>New Rose Hotel</td>\n",
       "      <td>[('/m/09c7w0', 'United States of America')]</td>\n",
       "      <td>United States of America</td>\n",
       "    </tr>\n",
       "    <tr>\n",
       "      <th>5</th>\n",
       "      <td>Baby Boy</td>\n",
       "      <td>[('/m/09c7w0', 'United States of America')]</td>\n",
       "      <td>United States of America</td>\n",
       "    </tr>\n",
       "    <tr>\n",
       "      <th>6</th>\n",
       "      <td>They Knew What They Wanted</td>\n",
       "      <td>[('/m/09c7w0', 'United States of America')]</td>\n",
       "      <td>United States of America</td>\n",
       "    </tr>\n",
       "    <tr>\n",
       "      <th>7</th>\n",
       "      <td>The Gods Must Be Crazy</td>\n",
       "      <td>[('/m/0hzlz', 'South Africa')]</td>\n",
       "      <td>South Africa</td>\n",
       "    </tr>\n",
       "    <tr>\n",
       "      <th>8</th>\n",
       "      <td>Rudo y Cursi</td>\n",
       "      <td>[('/m/0b90_r', 'Mexico'), ('/m/09c7w0', 'Unite...</td>\n",
       "      <td>Mexico</td>\n",
       "    </tr>\n",
       "    <tr>\n",
       "      <th>9</th>\n",
       "      <td>Kinjite: Forbidden Subjects</td>\n",
       "      <td>[('/m/09c7w0', 'United States of America')]</td>\n",
       "      <td>United States of America</td>\n",
       "    </tr>\n",
       "  </tbody>\n",
       "</table>\n",
       "</div>"
      ],
      "text/plain": [
       "                    movie_name  \\\n",
       "0               Ghosts of Mars   \n",
       "1     Alexander's Ragtime Band   \n",
       "2                      Henry V   \n",
       "3                 Mary Poppins   \n",
       "4               New Rose Hotel   \n",
       "5                     Baby Boy   \n",
       "6   They Knew What They Wanted   \n",
       "7       The Gods Must Be Crazy   \n",
       "8                 Rudo y Cursi   \n",
       "9  Kinjite: Forbidden Subjects   \n",
       "\n",
       "                                     movie_countries             first_country  \n",
       "0        [('/m/09c7w0', 'United States of America')]  United States of America  \n",
       "1        [('/m/09c7w0', 'United States of America')]  United States of America  \n",
       "2                   [('/m/07ssc', 'United Kingdom')]            United Kingdom  \n",
       "3        [('/m/09c7w0', 'United States of America')]  United States of America  \n",
       "4        [('/m/09c7w0', 'United States of America')]  United States of America  \n",
       "5        [('/m/09c7w0', 'United States of America')]  United States of America  \n",
       "6        [('/m/09c7w0', 'United States of America')]  United States of America  \n",
       "7                     [('/m/0hzlz', 'South Africa')]              South Africa  \n",
       "8  [('/m/0b90_r', 'Mexico'), ('/m/09c7w0', 'Unite...                    Mexico  \n",
       "9        [('/m/09c7w0', 'United States of America')]  United States of America  "
      ]
     },
     "execution_count": 24,
     "metadata": {},
     "output_type": "execute_result"
    }
   ],
   "source": [
    "# only take the first country\n",
    "df_movie_country['first_country'] = df_movie_country['movie_countries'].apply(extract_first_country)\n",
    "\n",
    "# check \n",
    "df_movie_country[['movie_name', 'movie_countries', 'first_country']].head(10)\n"
   ]
  },
  {
   "cell_type": "code",
   "execution_count": 25,
   "metadata": {},
   "outputs": [],
   "source": [
    "# average box office revenue per country (only considering the fist countries for each movie)\n",
    "average_revenue_per_country = df_movie_country.groupby('first_country')['inflated_revenue'].mean().sort_values(ascending=False)"
   ]
  },
  {
   "cell_type": "code",
   "execution_count": 26,
   "metadata": {},
   "outputs": [
    {
     "name": "stderr",
     "output_type": "stream",
     "text": [
      "C:\\Users\\celin\\AppData\\Local\\Temp\\ipykernel_11536\\2393295487.py:5: FutureWarning: \n",
      "\n",
      "Passing `palette` without assigning `hue` is deprecated and will be removed in v0.14.0. Assign the `x` variable to `hue` and set `legend=False` for the same effect.\n",
      "\n",
      "  sns.barplot(x=average_revenue_per_country.head(top_n).index, y=average_revenue_per_country.head(top_n).values, palette=\"plasma\")\n"
     ]
    },
    {
     "data": {
      "image/png": "[encoded data removed]",
      "text/plain": [
       "<Figure size 1200x600 with 1 Axes>"
      ]
     },
     "metadata": {},
     "output_type": "display_data"
    }
   ],
   "source": [
    "# plot\n",
    "top_n = 10\n",
    "\n",
    "plt.figure(figsize=(12, 6))\n",
    "sns.barplot(x=average_revenue_per_country.head(top_n).index, y=average_revenue_per_country.head(top_n).values, palette=\"plasma\")\n",
    "plt.title(\"Top 10 Countries with Highest Average Box Office Revenue\", fontweight='bold')\n",
    "plt.xlabel(\"Country\")\n",
    "plt.ylabel(\"Average Box Office Revenue\")\n",
    "plt.xticks(rotation=45)\n",
    "plt.show()"
   ]
  },
  {
   "cell_type": "markdown",
   "metadata": {},
   "source": [
    "##### Regression analysis\n",
    "\n",
    "The country (categorical) should predict the box office revenue (continuous). An ordinary least squares (OLS) regression can be done. The categorical variable has to be one-hot encoded. Each country will get an own coefficient, indicating its influence on the box office revenue compared to the baseline country."
   ]
  },
  {
   "cell_type": "code",
   "execution_count": 27,
   "metadata": {},
   "outputs": [
    {
     "name": "stdout",
     "output_type": "stream",
     "text": [
      "                            OLS Regression Results                            \n",
      "==============================================================================\n",
      "Dep. Variable:       inflated_revenue   R-squared:                       0.065\n",
      "Model:                            OLS   Adj. R-squared:                  0.059\n",
      "Method:                 Least Squares   F-statistic:                     10.22\n",
      "Date:                Wed, 13 Nov 2024   Prob (F-statistic):           7.89e-95\n",
      "Time:                        21:44:25   Log-Likelihood:                -13944.\n",
      "No. Observations:                9433   AIC:                         2.802e+04\n",
      "Df Residuals:                    9368   BIC:                         2.848e+04\n",
      "Df Model:                          64                                         \n",
      "Covariance Type:            nonrobust                                         \n",
      "============================================================================================\n",
      "                               coef    std err          t      P>|t|      [0.025      0.975]\n",
      "--------------------------------------------------------------------------------------------\n",
      "const                        5.0554      1.065      4.748      0.000       2.968       7.143\n",
      "Argentina                    2.0714      1.129      1.834      0.067      -0.142       4.285\n",
      "Australia                    1.3825      1.071      1.291      0.197      -0.716       3.481\n",
      "Austria                      1.0457      1.138      0.919      0.358      -1.186       3.277\n",
      "Belgium                      1.5262      1.112      1.372      0.170      -0.654       3.706\n",
      "Bosnia and Herzegovina       0.1150      1.506      0.076      0.939      -2.837       3.067\n",
      "Brazil                       1.2899      1.122      1.149      0.250      -0.910       3.490\n",
      "Bulgaria                     0.5040      1.506      0.335      0.738      -2.448       3.456\n",
      "Canada                       0.9542      1.071      0.891      0.373      -1.146       3.054\n",
      "China                        1.9381      1.105      1.754      0.079      -0.228       4.104\n",
      "Czech Republic               1.1651      1.138      1.024      0.306      -1.066       3.396\n",
      "Denmark                      1.4585      1.100      1.326      0.185      -0.697       3.614\n",
      "England                      1.2199      1.096      1.113      0.266      -0.928       3.368\n",
      "Finland                      1.3835      1.098      1.261      0.207      -0.768       3.535\n",
      "France                       1.6652      1.066      1.562      0.118      -0.424       3.755\n",
      "Germany                      1.7320      1.091      1.587      0.112      -0.407       3.871\n",
      "Greece                       0.8884      1.304      0.681      0.496      -1.668       3.445\n",
      "Hong Kong                    1.9015      1.072      1.773      0.076      -0.201       4.004\n",
      "Hungary                      2.1952      1.506      1.458      0.145      -0.756       5.147\n",
      "Iceland                      0.6908      1.229      0.562      0.574      -1.719       3.101\n",
      "India                        1.4288      1.070      1.336      0.182      -0.668       3.525\n",
      "Iran                         0.7970      1.150      0.693      0.488      -1.457       3.051\n",
      "Ireland                      0.9548      1.086      0.879      0.379      -1.174       3.083\n",
      "Israel                       1.0498      1.166      0.900      0.368      -1.237       3.336\n",
      "Italy                        1.5982      1.080      1.479      0.139      -0.519       3.716\n",
      "Jamaica                     -0.2870      1.506     -0.191      0.849      -3.239       2.665\n",
      "Japan                        1.8641      1.069      1.743      0.081      -0.232       3.960\n",
      "Kenya                        2.9652      1.506      1.969      0.049       0.013       5.917\n",
      "Kingdom of Great Britain     0.4526      1.190      0.380      0.704      -1.881       2.786\n",
      "Korea                        1.3702      1.304      1.051      0.293      -1.186       3.926\n",
      "Kuwait                       2.2686      1.506      1.507      0.132      -0.683       5.220\n",
      "Luxembourg                   2.5580      1.506      1.699      0.089      -0.394       5.510\n",
      "Malaysia                     1.4499      1.506      0.963      0.336      -1.502       4.402\n",
      "Mexico                       2.0060      1.085      1.849      0.065      -0.121       4.133\n",
      "Mongolia                     2.2309      1.304      1.711      0.087      -0.325       4.787\n",
      "Netherlands                  1.6047      1.229      1.305      0.192      -0.805       4.015\n",
      "New Zealand                  1.5205      1.138      1.336      0.182      -0.711       3.752\n",
      "Norway                       1.4327      1.229      1.165      0.244      -0.977       3.843\n",
      "Palestinian territories      1.5601      1.506      1.036      0.300      -1.392       4.512\n",
      "Philippines                 -2.5504      1.506     -1.694      0.090      -5.502       0.401\n",
      "Poland                       1.3554      1.166      1.162      0.245      -0.931       3.642\n",
      "Romania                      0.0203      1.229      0.017      0.987      -2.390       2.430\n",
      "Russia                       1.7247      1.088      1.586      0.113      -0.407       3.857\n",
      "Senegal                      0.3803      1.506      0.253      0.801      -2.571       3.332\n",
      "Serbia                      -0.1985      1.229     -0.161      0.872      -2.609       2.212\n",
      "Serbia and Montenegro        0.3751      1.506      0.249      0.803      -2.577       3.327\n",
      "Singapore                    1.3789      1.506      0.916      0.360      -1.573       4.331\n",
      "Slovakia                     1.0169      1.304      0.780      0.436      -1.539       3.573\n",
      "South Africa                 1.8618      1.138      1.636      0.102      -0.369       4.093\n",
      "South Korea                  1.6397      1.067      1.537      0.124      -0.451       3.731\n",
      "Soviet Union                 1.0026      1.229      0.815      0.415      -1.407       3.413\n",
      "Spain                        1.7764      1.077      1.650      0.099      -0.334       3.887\n",
      "Sweden                       1.6362      1.122      1.458      0.145      -0.564       3.836\n",
      "Switzerland                  2.0092      1.122      1.790      0.073      -0.191       4.209\n",
      "Taiwan                       0.3605      1.506      0.239      0.811      -2.591       3.312\n",
      "Thailand                     1.6487      1.117      1.476      0.140      -0.540       3.838\n",
      "Turkey                       1.2728      1.082      1.177      0.239      -0.848       3.393\n",
      "Ukraine                      1.3523      1.506      0.898      0.369      -1.599       4.304\n",
      "United Arab Emirates         2.5811      1.506      1.714      0.087      -0.371       5.533\n",
      "United Kingdom               1.7292      1.067      1.621      0.105      -0.362       3.820\n",
      "United States of America     2.2053      1.065      2.071      0.038       0.118       4.293\n",
      "Venezuela                    1.5266      1.506      1.014      0.311      -1.425       4.478\n",
      "Vietnam                     -0.2172      1.506     -0.144      0.885      -3.169       2.735\n",
      "Weimar Republic              1.4463      1.304      1.109      0.267      -1.110       4.003\n",
      "West Germany                 0.2146      1.304      0.165      0.869      -2.342       2.771\n",
      "==============================================================================\n",
      "Omnibus:                     3408.075   Durbin-Watson:                   1.990\n",
      "Prob(Omnibus):                  0.000   Jarque-Bera (JB):            17058.271\n",
      "Skew:                          -1.678   Prob(JB):                         0.00\n",
      "Kurtosis:                       8.669   Cond. No.                     1.03e+03\n",
      "==============================================================================\n",
      "\n",
      "Notes:\n",
      "[1] Standard Errors assume that the covariance matrix of the errors is correctly specified.\n",
      "[2] The condition number is large, 1.03e+03. This might indicate that there are\n",
      "strong multicollinearity or other numerical problems.\n"
     ]
    }
   ],
   "source": [
    "# one-hot encode the country column\n",
    "# baseline country -> the most common country\n",
    "X = pd.get_dummies(df_movie_country['first_country'], drop_first=True).astype(int)\n",
    "\n",
    "y = np.log10(df_movie_country['inflated_revenue'].astype(float))\n",
    "\n",
    "# Add intercept\n",
    "X = sm.add_constant(X)\n",
    "\n",
    "# Fit the model\n",
    "model = sm.OLS(y, X).fit()\n",
    "print(model.summary())"
   ]
  },
  {
   "cell_type": "code",
   "execution_count": 28,
   "metadata": {},
   "outputs": [],
   "source": [
    "# todoooooooo -> take a threshold and remove the languages with less than that threshold"
   ]
  },
  {
   "cell_type": "markdown",
   "metadata": {},
   "source": [
    "##### ANOVA\n",
    "\n",
    "An ANOVA analysis can be done in order to determine if there are statistically significant differences in box office revenue across different countries."
   ]
  },
  {
   "cell_type": "code",
   "execution_count": 30,
   "metadata": {},
   "outputs": [
    {
     "name": "stdout",
     "output_type": "stream",
     "text": [
      "                        sum_sq      df         F        PR(>F)\n",
      "C(first_country)  6.095020e+18    64.0  2.461818  9.507744e-10\n",
      "Residual          3.623982e+20  9368.0       NaN           NaN\n"
     ]
    }
   ],
   "source": [
    "# define and fit the model\n",
    "anova_model = ols('inflated_revenue ~ C(first_country)', data=df_movie_country).fit()\n",
    "# get the anova table\n",
    "anova_table = sm.stats.anova_lm(anova_model, typ=2)\n",
    "\n",
    "print(anova_table)"
   ]
  },
  {
   "cell_type": "markdown",
   "metadata": {},
   "source": [
    "<div class=\"alert alert-info\">\n",
    "  💡 <strong>Discussion:</strong>\n",
    "\n",
    "  - Analysis of what has been found\n",
    "  \n",
    "</div>"
   ]
  },
  {
   "cell_type": "markdown",
   "metadata": {},
   "source": [
    "### Relation between language and country"
   ]
  },
  {
   "cell_type": "markdown",
   "metadata": {},
   "source": [
    "How are language and country correlated? What does this imply for previous and/ or further analysis?"
   ]
  },
  {
   "cell_type": "markdown",
   "metadata": {},
   "source": [
    "<div class=\"alert alert-success\">\n",
    "\n",
    "  💭 <strong>Idea:</strong>\n",
    "\n",
    "  - Analyse the correlation between the country and the language\n",
    "  - Use the information to guide further anaylsis and to interpret previous one\n",
    "\n",
    "</div>"
   ]
  },
  {
   "cell_type": "markdown",
   "metadata": {},
   "source": [
    "<div class=\"alert alert-warning\">\n",
    "\n",
    "  🛠️ <strong>Methods:</strong>\n",
    "  - Statistical hypothesis testing\n",
    "  - Correlation analysis\n",
    "  - Regression analyis\n",
    "  \n",
    "</div>"
   ]
  },
  {
   "cell_type": "markdown",
   "metadata": {},
   "source": [
    "### Multilingual movies"
   ]
  },
  {
   "cell_type": "markdown",
   "metadata": {},
   "source": [
    "Do multilingual movies have more success (in terms of box office revenues)? Is there a relationship between the number of languages spoken in a movie and its box office revenue?"
   ]
  },
  {
   "cell_type": "markdown",
   "metadata": {},
   "source": [
    "<div class=\"alert alert-success\">\n",
    "\n",
    "  💭 <strong>Idea:</strong>\n",
    "\n",
    "  - Analyse the influence of multilinguality in the movies\n",
    "  - Keep in mind that if a movie has more than one language listed, it means the languages used in the original version (not the translations later on)\n",
    "\n",
    "</div>"
   ]
  },
  {
   "cell_type": "markdown",
   "metadata": {},
   "source": [
    "<div class=\"alert alert-warning\">\n",
    "\n",
    "  🛠️ <strong>Methods:</strong>\n",
    "  - Statistical hypothesis testing (for the number of languages)\n",
    "  \n",
    "</div>"
   ]
  },
  {
   "cell_type": "markdown",
   "metadata": {},
   "source": [
    "### Language and genre"
   ]
  },
  {
   "cell_type": "markdown",
   "metadata": {},
   "source": [
    "MAYBE REMOVE THIS QUESTION ?!?\n",
    "\n",
    "How does the language of a movie interact with its genre in terms of box office revenue? Are certain genres more successful in specific languages?"
   ]
  },
  {
   "cell_type": "code",
   "execution_count": null,
   "metadata": {},
   "outputs": [],
   "source": []
  }
 ],
 "metadata": {
  "kernelspec": {
   "display_name": "ada",
   "language": "python",
   "name": "python3"
  },
  "language_info": {
   "codemirror_mode": {
    "name": "ipython",
    "version": 3
   },
   "file_extension": ".py",
   "mimetype": "text/x-python",
   "name": "python",
   "nbconvert_exporter": "python",
   "pygments_lexer": "ipython3",
   "version": "3.11.9"
  }
 },
 "nbformat": 4,
 "nbformat_minor": 2
}
