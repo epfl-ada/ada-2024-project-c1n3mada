{
 "cells": [
  {
   "cell_type": "markdown",
   "metadata": {},
   "source": [
    "# Research question 2"
   ]
  },
  {
   "cell_type": "markdown",
   "metadata": {},
   "source": [
    "## Tongues"
   ]
  },
  {
   "cell_type": "markdown",
   "metadata": {},
   "source": [
    "### How does the language and country of a movie influence its box office revenue?"
   ]
  },
  {
   "cell_type": "markdown",
   "metadata": {},
   "source": [
    "The goal is to analyse in more detail how the language(s) and the country of origin of a movie influence it's box office revenue."
   ]
  },
  {
   "cell_type": "markdown",
   "metadata": {},
   "source": [
    "### Some intial exploration"
   ]
  },
  {
   "cell_type": "code",
   "execution_count": 18,
   "metadata": {},
   "outputs": [],
   "source": [
    "# imports\n",
    "import pandas as pd\n",
    "import numpy as np\n",
    "import seaborn as sns\n",
    "import matplotlib.pyplot as plt\n",
    "from itertools import chain\n",
    "from collections import Counter"
   ]
  },
  {
   "cell_type": "code",
   "execution_count": 14,
   "metadata": {},
   "outputs": [],
   "source": [
    "# set global variables\n",
    "DATA_PATH = '../data/'\n",
    "MOVIES_FILE = 'movies_combined_inflated.csv'"
   ]
  },
  {
   "cell_type": "code",
   "execution_count": 15,
   "metadata": {},
   "outputs": [
    {
     "data": {
      "text/html": [
       "<div>\n",
       "<style scoped>\n",
       "    .dataframe tbody tr th:only-of-type {\n",
       "        vertical-align: middle;\n",
       "    }\n",
       "\n",
       "    .dataframe tbody tr th {\n",
       "        vertical-align: top;\n",
       "    }\n",
       "\n",
       "    .dataframe thead th {\n",
       "        text-align: right;\n",
       "    }\n",
       "</style>\n",
       "<table border=\"1\" class=\"dataframe\">\n",
       "  <thead>\n",
       "    <tr style=\"text-align: right;\">\n",
       "      <th></th>\n",
       "      <th>wiki_movie_id</th>\n",
       "      <th>freebase_movie_id</th>\n",
       "      <th>movie_name</th>\n",
       "      <th>movie_release_date</th>\n",
       "      <th>movie_box_office_revenue</th>\n",
       "      <th>movie_runtime</th>\n",
       "      <th>movie_languages</th>\n",
       "      <th>movie_countries</th>\n",
       "      <th>movie_genres</th>\n",
       "      <th>release_year</th>\n",
       "      <th>...</th>\n",
       "      <th>combined_revenue</th>\n",
       "      <th>release_month</th>\n",
       "      <th>release_day</th>\n",
       "      <th>primaryTitle</th>\n",
       "      <th>startYear</th>\n",
       "      <th>averageRating</th>\n",
       "      <th>numVotes</th>\n",
       "      <th>tconst</th>\n",
       "      <th>director</th>\n",
       "      <th>inflated_revenue</th>\n",
       "    </tr>\n",
       "  </thead>\n",
       "  <tbody>\n",
       "    <tr>\n",
       "      <th>0</th>\n",
       "      <td>975900</td>\n",
       "      <td>/m/03vyhn</td>\n",
       "      <td>Ghosts of Mars</td>\n",
       "      <td>2001-08-24</td>\n",
       "      <td>14010832.0</td>\n",
       "      <td>98.0</td>\n",
       "      <td>[('/m/02h40lc', 'English Language')]</td>\n",
       "      <td>[('/m/09c7w0', 'United States of America')]</td>\n",
       "      <td>[('/m/01jfsb', 'Thriller'), ('/m/06n90', 'Scie...</td>\n",
       "      <td>2001.0</td>\n",
       "      <td>...</td>\n",
       "      <td>14010832.0</td>\n",
       "      <td>8.0</td>\n",
       "      <td>24.0</td>\n",
       "      <td>Ghosts of Mars</td>\n",
       "      <td>2001.0</td>\n",
       "      <td>4.9</td>\n",
       "      <td>58868.0</td>\n",
       "      <td>tt0228333</td>\n",
       "      <td>John Carpenter</td>\n",
       "      <td>1.899115e+07</td>\n",
       "    </tr>\n",
       "    <tr>\n",
       "      <th>1</th>\n",
       "      <td>10408933</td>\n",
       "      <td>/m/02qc0j7</td>\n",
       "      <td>Alexander's Ragtime Band</td>\n",
       "      <td>1938-08-16</td>\n",
       "      <td>3600000.0</td>\n",
       "      <td>106.0</td>\n",
       "      <td>[('/m/02h40lc', 'English Language')]</td>\n",
       "      <td>[('/m/09c7w0', 'United States of America')]</td>\n",
       "      <td>[('/m/04t36', 'Musical'), ('/m/01z4y', 'Comedy...</td>\n",
       "      <td>1938.0</td>\n",
       "      <td>...</td>\n",
       "      <td>4000000.0</td>\n",
       "      <td>8.0</td>\n",
       "      <td>16.0</td>\n",
       "      <td>Alexander's Ragtime Band</td>\n",
       "      <td>1938.0</td>\n",
       "      <td>6.8</td>\n",
       "      <td>2357.0</td>\n",
       "      <td>tt0029852</td>\n",
       "      <td>Henry King</td>\n",
       "      <td>6.812740e+07</td>\n",
       "    </tr>\n",
       "    <tr>\n",
       "      <th>2</th>\n",
       "      <td>171005</td>\n",
       "      <td>/m/016ywb</td>\n",
       "      <td>Henry V</td>\n",
       "      <td>1989-11-08</td>\n",
       "      <td>10161099.0</td>\n",
       "      <td>137.0</td>\n",
       "      <td>[('/m/02h40lc', 'English Language')]</td>\n",
       "      <td>[('/m/07ssc', 'United Kingdom')]</td>\n",
       "      <td>[('/m/04xvh5', 'Costume drama'), ('/m/082gq', ...</td>\n",
       "      <td>1989.0</td>\n",
       "      <td>...</td>\n",
       "      <td>10161099.0</td>\n",
       "      <td>11.0</td>\n",
       "      <td>8.0</td>\n",
       "      <td>Henry V</td>\n",
       "      <td>1989.0</td>\n",
       "      <td>7.5</td>\n",
       "      <td>32088.0</td>\n",
       "      <td>tt0097499</td>\n",
       "      <td>Kenneth Branagh</td>\n",
       "      <td>1.967252e+07</td>\n",
       "    </tr>\n",
       "    <tr>\n",
       "      <th>3</th>\n",
       "      <td>77856</td>\n",
       "      <td>/m/0kcn7</td>\n",
       "      <td>Mary Poppins</td>\n",
       "      <td>1964-08-27</td>\n",
       "      <td>102272727.0</td>\n",
       "      <td>139.0</td>\n",
       "      <td>[('/m/02h40lc', 'English Language')]</td>\n",
       "      <td>[('/m/09c7w0', 'United States of America')]</td>\n",
       "      <td>[('/m/0hj3myq', \"Children's/Family\"), ('/m/04t...</td>\n",
       "      <td>1964.0</td>\n",
       "      <td>...</td>\n",
       "      <td>102272727.0</td>\n",
       "      <td>8.0</td>\n",
       "      <td>27.0</td>\n",
       "      <td>Mary Poppins</td>\n",
       "      <td>1964.0</td>\n",
       "      <td>7.8</td>\n",
       "      <td>189183.0</td>\n",
       "      <td>tt0058331</td>\n",
       "      <td>Robert Stevenson</td>\n",
       "      <td>7.913870e+08</td>\n",
       "    </tr>\n",
       "    <tr>\n",
       "      <th>4</th>\n",
       "      <td>612710</td>\n",
       "      <td>/m/02wjqm</td>\n",
       "      <td>New Rose Hotel</td>\n",
       "      <td>1999-10-01</td>\n",
       "      <td>21521.0</td>\n",
       "      <td>92.0</td>\n",
       "      <td>[('/m/02h40lc', 'English Language')]</td>\n",
       "      <td>[('/m/09c7w0', 'United States of America')]</td>\n",
       "      <td>[('/m/01jfsb', 'Thriller'), ('/m/06n90', 'Scie...</td>\n",
       "      <td>1999.0</td>\n",
       "      <td>...</td>\n",
       "      <td>21521.0</td>\n",
       "      <td>10.0</td>\n",
       "      <td>1.0</td>\n",
       "      <td>NaN</td>\n",
       "      <td>NaN</td>\n",
       "      <td>0.0</td>\n",
       "      <td>0.0</td>\n",
       "      <td>NaN</td>\n",
       "      <td>Unknown</td>\n",
       "      <td>3.100822e+04</td>\n",
       "    </tr>\n",
       "  </tbody>\n",
       "</table>\n",
       "<p>5 rows × 24 columns</p>\n",
       "</div>"
      ],
      "text/plain": [
       "   wiki_movie_id freebase_movie_id                movie_name  \\\n",
       "0         975900         /m/03vyhn            Ghosts of Mars   \n",
       "1       10408933        /m/02qc0j7  Alexander's Ragtime Band   \n",
       "2         171005         /m/016ywb                   Henry V   \n",
       "3          77856          /m/0kcn7              Mary Poppins   \n",
       "4         612710         /m/02wjqm            New Rose Hotel   \n",
       "\n",
       "  movie_release_date  movie_box_office_revenue  movie_runtime  \\\n",
       "0         2001-08-24                14010832.0           98.0   \n",
       "1         1938-08-16                 3600000.0          106.0   \n",
       "2         1989-11-08                10161099.0          137.0   \n",
       "3         1964-08-27               102272727.0          139.0   \n",
       "4         1999-10-01                   21521.0           92.0   \n",
       "\n",
       "                        movie_languages  \\\n",
       "0  [('/m/02h40lc', 'English Language')]   \n",
       "1  [('/m/02h40lc', 'English Language')]   \n",
       "2  [('/m/02h40lc', 'English Language')]   \n",
       "3  [('/m/02h40lc', 'English Language')]   \n",
       "4  [('/m/02h40lc', 'English Language')]   \n",
       "\n",
       "                               movie_countries  \\\n",
       "0  [('/m/09c7w0', 'United States of America')]   \n",
       "1  [('/m/09c7w0', 'United States of America')]   \n",
       "2             [('/m/07ssc', 'United Kingdom')]   \n",
       "3  [('/m/09c7w0', 'United States of America')]   \n",
       "4  [('/m/09c7w0', 'United States of America')]   \n",
       "\n",
       "                                        movie_genres  release_year  ...  \\\n",
       "0  [('/m/01jfsb', 'Thriller'), ('/m/06n90', 'Scie...        2001.0  ...   \n",
       "1  [('/m/04t36', 'Musical'), ('/m/01z4y', 'Comedy...        1938.0  ...   \n",
       "2  [('/m/04xvh5', 'Costume drama'), ('/m/082gq', ...        1989.0  ...   \n",
       "3  [('/m/0hj3myq', \"Children's/Family\"), ('/m/04t...        1964.0  ...   \n",
       "4  [('/m/01jfsb', 'Thriller'), ('/m/06n90', 'Scie...        1999.0  ...   \n",
       "\n",
       "  combined_revenue  release_month  release_day              primaryTitle  \\\n",
       "0       14010832.0            8.0         24.0            Ghosts of Mars   \n",
       "1        4000000.0            8.0         16.0  Alexander's Ragtime Band   \n",
       "2       10161099.0           11.0          8.0                   Henry V   \n",
       "3      102272727.0            8.0         27.0              Mary Poppins   \n",
       "4          21521.0           10.0          1.0                       NaN   \n",
       "\n",
       "   startYear  averageRating  numVotes     tconst          director  \\\n",
       "0     2001.0            4.9   58868.0  tt0228333    John Carpenter   \n",
       "1     1938.0            6.8    2357.0  tt0029852        Henry King   \n",
       "2     1989.0            7.5   32088.0  tt0097499   Kenneth Branagh   \n",
       "3     1964.0            7.8  189183.0  tt0058331  Robert Stevenson   \n",
       "4        NaN            0.0       0.0        NaN           Unknown   \n",
       "\n",
       "   inflated_revenue  \n",
       "0      1.899115e+07  \n",
       "1      6.812740e+07  \n",
       "2      1.967252e+07  \n",
       "3      7.913870e+08  \n",
       "4      3.100822e+04  \n",
       "\n",
       "[5 rows x 24 columns]"
      ]
     },
     "execution_count": 15,
     "metadata": {},
     "output_type": "execute_result"
    }
   ],
   "source": [
    "# load the data\n",
    "df_movies = pd.read_csv(DATA_PATH + MOVIES_FILE)\n",
    "df_movies.head()"
   ]
  },
  {
   "cell_type": "markdown",
   "metadata": {},
   "source": [
    "How many countries/ languages does the dataset have? Which ones are the most common one?"
   ]
  },
  {
   "cell_type": "markdown",
   "metadata": {},
   "source": [
    "<div class=\"alert alert-success\">\n",
    "\n",
    "  💭 <strong>Idea:</strong>\n",
    "\n",
    "  - Analyse the number of countries and languages in the dataset\n",
    "  - Think about how this distribution could influence/ change further analysis\n",
    "  \n",
    "</div>"
   ]
  },
  {
   "cell_type": "markdown",
   "metadata": {},
   "source": [
    "<div class=\"alert alert-warning\">\n",
    "\n",
    "  🛠️ <strong>Methods:</strong>\n",
    "  - Basic prints\n",
    "  - Visualization: bar plot, pie chart, \n",
    "</div>"
   ]
  },
  {
   "cell_type": "code",
   "execution_count": null,
   "metadata": {},
   "outputs": [],
   "source": [
    "# todoooo -> not used and old, check again\n",
    "\n",
    "def extract_countries(countries):\n",
    "    \"\"\"\n",
    "    Extract the countries from a column containing a list of countries \n",
    "    Args:\n",
    "        countries: list of countries\n",
    "    Returns:\n",
    "        list of countries\n",
    "    \"\"\"\n",
    "    if not countries:\n",
    "        return None\n",
    "    return ', '.join([country[1] for country in countries if country])\n",
    "\n",
    "\n",
    "def extract_languages(languages):\n",
    "    \"\"\"\n",
    "    Extract the languages from a column containing a list of languages \n",
    "    Args:\n",
    "        languages: list of languages\n",
    "    Returns:\n",
    "        list of languages\n",
    "    \"\"\"\n",
    "    if not languages:\n",
    "        return None\n",
    "    return ', '.join([language[1] for language in languages if language])\n"
   ]
  },
  {
   "cell_type": "code",
   "execution_count": 28,
   "metadata": {},
   "outputs": [
    {
     "ename": "IndexError",
     "evalue": "string index out of range",
     "output_type": "error",
     "traceback": [
      "\u001b[1;31m---------------------------------------------------------------------------\u001b[0m",
      "\u001b[1;31mIndexError\u001b[0m                                Traceback (most recent call last)",
      "Cell \u001b[1;32mIn[28], line 2\u001b[0m\n\u001b[0;32m      1\u001b[0m \u001b[38;5;66;03m# extract the countries and languages\u001b[39;00m\n\u001b[1;32m----> 2\u001b[0m df_movies[\u001b[38;5;124m'\u001b[39m\u001b[38;5;124mextracted_countries\u001b[39m\u001b[38;5;124m'\u001b[39m] \u001b[38;5;241m=\u001b[39m df_movies[\u001b[38;5;124m'\u001b[39m\u001b[38;5;124mmovie_countries\u001b[39m\u001b[38;5;124m'\u001b[39m]\u001b[38;5;241m.\u001b[39mapply(extract_countries)\n\u001b[0;32m      3\u001b[0m df_movies[\u001b[38;5;124m'\u001b[39m\u001b[38;5;124mextracted_languages\u001b[39m\u001b[38;5;124m'\u001b[39m] \u001b[38;5;241m=\u001b[39m df_movies[\u001b[38;5;124m'\u001b[39m\u001b[38;5;124mmovie_languages\u001b[39m\u001b[38;5;124m'\u001b[39m]\u001b[38;5;241m.\u001b[39mapply(extract_languages)\n\u001b[0;32m      5\u001b[0m \u001b[38;5;66;03m# show the number of countries and languages\u001b[39;00m\n",
      "File \u001b[1;32mc:\\Users\\celin\\.conda\\envs\\ada\\Lib\\site-packages\\pandas\\core\\series.py:4924\u001b[0m, in \u001b[0;36mSeries.apply\u001b[1;34m(self, func, convert_dtype, args, by_row, **kwargs)\u001b[0m\n\u001b[0;32m   4789\u001b[0m \u001b[38;5;28;01mdef\u001b[39;00m \u001b[38;5;21mapply\u001b[39m(\n\u001b[0;32m   4790\u001b[0m     \u001b[38;5;28mself\u001b[39m,\n\u001b[0;32m   4791\u001b[0m     func: AggFuncType,\n\u001b[1;32m   (...)\u001b[0m\n\u001b[0;32m   4796\u001b[0m     \u001b[38;5;241m*\u001b[39m\u001b[38;5;241m*\u001b[39mkwargs,\n\u001b[0;32m   4797\u001b[0m ) \u001b[38;5;241m-\u001b[39m\u001b[38;5;241m>\u001b[39m DataFrame \u001b[38;5;241m|\u001b[39m Series:\n\u001b[0;32m   4798\u001b[0m \u001b[38;5;250m    \u001b[39m\u001b[38;5;124;03m\"\"\"\u001b[39;00m\n\u001b[0;32m   4799\u001b[0m \u001b[38;5;124;03m    Invoke function on values of Series.\u001b[39;00m\n\u001b[0;32m   4800\u001b[0m \n\u001b[1;32m   (...)\u001b[0m\n\u001b[0;32m   4915\u001b[0m \u001b[38;5;124;03m    dtype: float64\u001b[39;00m\n\u001b[0;32m   4916\u001b[0m \u001b[38;5;124;03m    \"\"\"\u001b[39;00m\n\u001b[0;32m   4917\u001b[0m     \u001b[38;5;28;01mreturn\u001b[39;00m SeriesApply(\n\u001b[0;32m   4918\u001b[0m         \u001b[38;5;28mself\u001b[39m,\n\u001b[0;32m   4919\u001b[0m         func,\n\u001b[0;32m   4920\u001b[0m         convert_dtype\u001b[38;5;241m=\u001b[39mconvert_dtype,\n\u001b[0;32m   4921\u001b[0m         by_row\u001b[38;5;241m=\u001b[39mby_row,\n\u001b[0;32m   4922\u001b[0m         args\u001b[38;5;241m=\u001b[39margs,\n\u001b[0;32m   4923\u001b[0m         kwargs\u001b[38;5;241m=\u001b[39mkwargs,\n\u001b[1;32m-> 4924\u001b[0m     )\u001b[38;5;241m.\u001b[39mapply()\n",
      "File \u001b[1;32mc:\\Users\\celin\\.conda\\envs\\ada\\Lib\\site-packages\\pandas\\core\\apply.py:1427\u001b[0m, in \u001b[0;36mSeriesApply.apply\u001b[1;34m(self)\u001b[0m\n\u001b[0;32m   1424\u001b[0m     \u001b[38;5;28;01mreturn\u001b[39;00m \u001b[38;5;28mself\u001b[39m\u001b[38;5;241m.\u001b[39mapply_compat()\n\u001b[0;32m   1426\u001b[0m \u001b[38;5;66;03m# self.func is Callable\u001b[39;00m\n\u001b[1;32m-> 1427\u001b[0m \u001b[38;5;28;01mreturn\u001b[39;00m \u001b[38;5;28mself\u001b[39m\u001b[38;5;241m.\u001b[39mapply_standard()\n",
      "File \u001b[1;32mc:\\Users\\celin\\.conda\\envs\\ada\\Lib\\site-packages\\pandas\\core\\apply.py:1507\u001b[0m, in \u001b[0;36mSeriesApply.apply_standard\u001b[1;34m(self)\u001b[0m\n\u001b[0;32m   1501\u001b[0m \u001b[38;5;66;03m# row-wise access\u001b[39;00m\n\u001b[0;32m   1502\u001b[0m \u001b[38;5;66;03m# apply doesn't have a `na_action` keyword and for backward compat reasons\u001b[39;00m\n\u001b[0;32m   1503\u001b[0m \u001b[38;5;66;03m# we need to give `na_action=\"ignore\"` for categorical data.\u001b[39;00m\n\u001b[0;32m   1504\u001b[0m \u001b[38;5;66;03m# TODO: remove the `na_action=\"ignore\"` when that default has been changed in\u001b[39;00m\n\u001b[0;32m   1505\u001b[0m \u001b[38;5;66;03m#  Categorical (GH51645).\u001b[39;00m\n\u001b[0;32m   1506\u001b[0m action \u001b[38;5;241m=\u001b[39m \u001b[38;5;124m\"\u001b[39m\u001b[38;5;124mignore\u001b[39m\u001b[38;5;124m\"\u001b[39m \u001b[38;5;28;01mif\u001b[39;00m \u001b[38;5;28misinstance\u001b[39m(obj\u001b[38;5;241m.\u001b[39mdtype, CategoricalDtype) \u001b[38;5;28;01melse\u001b[39;00m \u001b[38;5;28;01mNone\u001b[39;00m\n\u001b[1;32m-> 1507\u001b[0m mapped \u001b[38;5;241m=\u001b[39m obj\u001b[38;5;241m.\u001b[39m_map_values(\n\u001b[0;32m   1508\u001b[0m     mapper\u001b[38;5;241m=\u001b[39mcurried, na_action\u001b[38;5;241m=\u001b[39maction, convert\u001b[38;5;241m=\u001b[39m\u001b[38;5;28mself\u001b[39m\u001b[38;5;241m.\u001b[39mconvert_dtype\n\u001b[0;32m   1509\u001b[0m )\n\u001b[0;32m   1511\u001b[0m \u001b[38;5;28;01mif\u001b[39;00m \u001b[38;5;28mlen\u001b[39m(mapped) \u001b[38;5;129;01mand\u001b[39;00m \u001b[38;5;28misinstance\u001b[39m(mapped[\u001b[38;5;241m0\u001b[39m], ABCSeries):\n\u001b[0;32m   1512\u001b[0m     \u001b[38;5;66;03m# GH#43986 Need to do list(mapped) in order to get treated as nested\u001b[39;00m\n\u001b[0;32m   1513\u001b[0m     \u001b[38;5;66;03m#  See also GH#25959 regarding EA support\u001b[39;00m\n\u001b[0;32m   1514\u001b[0m     \u001b[38;5;28;01mreturn\u001b[39;00m obj\u001b[38;5;241m.\u001b[39m_constructor_expanddim(\u001b[38;5;28mlist\u001b[39m(mapped), index\u001b[38;5;241m=\u001b[39mobj\u001b[38;5;241m.\u001b[39mindex)\n",
      "File \u001b[1;32mc:\\Users\\celin\\.conda\\envs\\ada\\Lib\\site-packages\\pandas\\core\\base.py:921\u001b[0m, in \u001b[0;36mIndexOpsMixin._map_values\u001b[1;34m(self, mapper, na_action, convert)\u001b[0m\n\u001b[0;32m    918\u001b[0m \u001b[38;5;28;01mif\u001b[39;00m \u001b[38;5;28misinstance\u001b[39m(arr, ExtensionArray):\n\u001b[0;32m    919\u001b[0m     \u001b[38;5;28;01mreturn\u001b[39;00m arr\u001b[38;5;241m.\u001b[39mmap(mapper, na_action\u001b[38;5;241m=\u001b[39mna_action)\n\u001b[1;32m--> 921\u001b[0m \u001b[38;5;28;01mreturn\u001b[39;00m algorithms\u001b[38;5;241m.\u001b[39mmap_array(arr, mapper, na_action\u001b[38;5;241m=\u001b[39mna_action, convert\u001b[38;5;241m=\u001b[39mconvert)\n",
      "File \u001b[1;32mc:\\Users\\celin\\.conda\\envs\\ada\\Lib\\site-packages\\pandas\\core\\algorithms.py:1743\u001b[0m, in \u001b[0;36mmap_array\u001b[1;34m(arr, mapper, na_action, convert)\u001b[0m\n\u001b[0;32m   1741\u001b[0m values \u001b[38;5;241m=\u001b[39m arr\u001b[38;5;241m.\u001b[39mastype(\u001b[38;5;28mobject\u001b[39m, copy\u001b[38;5;241m=\u001b[39m\u001b[38;5;28;01mFalse\u001b[39;00m)\n\u001b[0;32m   1742\u001b[0m \u001b[38;5;28;01mif\u001b[39;00m na_action \u001b[38;5;129;01mis\u001b[39;00m \u001b[38;5;28;01mNone\u001b[39;00m:\n\u001b[1;32m-> 1743\u001b[0m     \u001b[38;5;28;01mreturn\u001b[39;00m lib\u001b[38;5;241m.\u001b[39mmap_infer(values, mapper, convert\u001b[38;5;241m=\u001b[39mconvert)\n\u001b[0;32m   1744\u001b[0m \u001b[38;5;28;01melse\u001b[39;00m:\n\u001b[0;32m   1745\u001b[0m     \u001b[38;5;28;01mreturn\u001b[39;00m lib\u001b[38;5;241m.\u001b[39mmap_infer_mask(\n\u001b[0;32m   1746\u001b[0m         values, mapper, mask\u001b[38;5;241m=\u001b[39misna(values)\u001b[38;5;241m.\u001b[39mview(np\u001b[38;5;241m.\u001b[39muint8), convert\u001b[38;5;241m=\u001b[39mconvert\n\u001b[0;32m   1747\u001b[0m     )\n",
      "File \u001b[1;32mlib.pyx:2972\u001b[0m, in \u001b[0;36mpandas._libs.lib.map_infer\u001b[1;34m()\u001b[0m\n",
      "Cell \u001b[1;32mIn[27], line 11\u001b[0m, in \u001b[0;36mextract_countries\u001b[1;34m(countries)\u001b[0m\n\u001b[0;32m      9\u001b[0m \u001b[38;5;28;01mif\u001b[39;00m \u001b[38;5;129;01mnot\u001b[39;00m countries:\n\u001b[0;32m     10\u001b[0m     \u001b[38;5;28;01mreturn\u001b[39;00m \u001b[38;5;28;01mNone\u001b[39;00m\n\u001b[1;32m---> 11\u001b[0m \u001b[38;5;28;01mreturn\u001b[39;00m \u001b[38;5;124m'\u001b[39m\u001b[38;5;124m, \u001b[39m\u001b[38;5;124m'\u001b[39m\u001b[38;5;241m.\u001b[39mjoin([country[\u001b[38;5;241m1\u001b[39m] \u001b[38;5;28;01mfor\u001b[39;00m country \u001b[38;5;129;01min\u001b[39;00m countries \u001b[38;5;28;01mif\u001b[39;00m country])\n",
      "Cell \u001b[1;32mIn[27], line 11\u001b[0m, in \u001b[0;36m<listcomp>\u001b[1;34m(.0)\u001b[0m\n\u001b[0;32m      9\u001b[0m \u001b[38;5;28;01mif\u001b[39;00m \u001b[38;5;129;01mnot\u001b[39;00m countries:\n\u001b[0;32m     10\u001b[0m     \u001b[38;5;28;01mreturn\u001b[39;00m \u001b[38;5;28;01mNone\u001b[39;00m\n\u001b[1;32m---> 11\u001b[0m \u001b[38;5;28;01mreturn\u001b[39;00m \u001b[38;5;124m'\u001b[39m\u001b[38;5;124m, \u001b[39m\u001b[38;5;124m'\u001b[39m\u001b[38;5;241m.\u001b[39mjoin([country[\u001b[38;5;241m1\u001b[39m] \u001b[38;5;28;01mfor\u001b[39;00m country \u001b[38;5;129;01min\u001b[39;00m countries \u001b[38;5;28;01mif\u001b[39;00m country])\n",
      "\u001b[1;31mIndexError\u001b[0m: string index out of range"
     ]
    }
   ],
   "source": [
    "# extract the countries and languages\n",
    "df_movies['extracted_countries'] = df_movies['movie_countries'].apply(extract_countries)\n",
    "df_movies['extracted_languages'] = df_movies['movie_languages'].apply(extract_languages)\n",
    "\n",
    "# show the number of countries and languages\n",
    "print('Number of countries:', df_movies['extracted_countries'].nunique())\n",
    "print('Number of languages:', df_movies['extracted_languages'].nunique())\n",
    "\n",
    "# top 10 countries and languages\n",
    "print('Top 10 countries:', df_movies['extracted_countries'].value_counts().head(10))\n",
    "print('Top 10 languages:', df_movies['extracted_languages'].value_counts().head(10))"
   ]
  },
  {
   "cell_type": "markdown",
   "metadata": {},
   "source": [
    "<div class=\"alert alert-info\">\n",
    "  💡 <strong>Discussion:</strong>\n",
    "\n",
    "  - Write here what has been found\n",
    "</div>"
   ]
  },
  {
   "cell_type": "markdown",
   "metadata": {},
   "source": [
    "### Language influence"
   ]
  },
  {
   "cell_type": "markdown",
   "metadata": {},
   "source": [
    "How does the language influence the box office revenue? Do movies in widely spoken languages (for example English, Spanish) tend to have higher revenue?"
   ]
  },
  {
   "cell_type": "markdown",
   "metadata": {},
   "source": [
    "<div class=\"alert alert-success\">\n",
    "\n",
    "  💭 <strong>Idea:</strong>\n",
    "\n",
    "  - Analyse the importance of the language for the box office revenue\n",
    "  - Maybe only take the primary language\n",
    "  \n",
    "</div>"
   ]
  },
  {
   "cell_type": "markdown",
   "metadata": {},
   "source": [
    "<div class=\"alert alert-warning\">\n",
    "\n",
    "  🛠️ <strong>Methods:</strong>\n",
    "  - Statistical hypothesis testing\n",
    "  - Regression analysis\n",
    "  \n",
    "</div>"
   ]
  },
  {
   "cell_type": "markdown",
   "metadata": {},
   "source": [
    "### Country influence"
   ]
  },
  {
   "cell_type": "markdown",
   "metadata": {},
   "source": [
    "<div class=\"alert alert-success\">\n",
    "\n",
    "  💭 <strong>Idea:</strong>\n",
    "\n",
    "  - Analyse the importance of the country for the box office revenue\n",
    "  \n",
    "</div>"
   ]
  },
  {
   "cell_type": "markdown",
   "metadata": {},
   "source": [
    "<div class=\"alert alert-warning\">\n",
    "\n",
    "  🛠️ <strong>Methods:</strong>\n",
    "  - Statistical hypothesis testing\n",
    "  \n",
    "</div>"
   ]
  },
  {
   "cell_type": "markdown",
   "metadata": {},
   "source": [
    "### Relation between language and country"
   ]
  },
  {
   "cell_type": "markdown",
   "metadata": {},
   "source": [
    "How are language and country correlated? What does this imply for previous and/ or further analysis?"
   ]
  },
  {
   "cell_type": "markdown",
   "metadata": {},
   "source": [
    "<div class=\"alert alert-success\">\n",
    "\n",
    "  💭 <strong>Idea:</strong>\n",
    "\n",
    "  - Analyse the correlation between the country and the language\n",
    "  - Use the information to guide further anaylsis and to interpret previous one\n",
    "\n",
    "</div>"
   ]
  },
  {
   "cell_type": "markdown",
   "metadata": {},
   "source": [
    "<div class=\"alert alert-warning\">\n",
    "\n",
    "  🛠️ <strong>Methods:</strong>\n",
    "  - Statistical hypothesis testing\n",
    "  - Regression analyis\n",
    "  \n",
    "</div>"
   ]
  },
  {
   "cell_type": "markdown",
   "metadata": {},
   "source": [
    "### Multilingual movies"
   ]
  },
  {
   "cell_type": "markdown",
   "metadata": {},
   "source": [
    "Do multilingual movies have more success (in terms of box office revenues)? Is there a relationship between the number of languages spoken in a movie and its box office revenue?"
   ]
  },
  {
   "cell_type": "markdown",
   "metadata": {},
   "source": [
    "<div class=\"alert alert-success\">\n",
    "\n",
    "  💭 <strong>Idea:</strong>\n",
    "\n",
    "  - Analyse the influence of multilinguality in the movies\n",
    "  - Keep in mind that if a movie has more than one language listed, it means the languages used in the original version (not the translations later on)\n",
    "\n",
    "</div>"
   ]
  },
  {
   "cell_type": "markdown",
   "metadata": {},
   "source": [
    "<div class=\"alert alert-warning\">\n",
    "\n",
    "  🛠️ <strong>Methods:</strong>\n",
    "  - XXXX\n",
    "  \n",
    "</div>"
   ]
  },
  {
   "cell_type": "markdown",
   "metadata": {},
   "source": [
    "### Language and genre"
   ]
  },
  {
   "cell_type": "markdown",
   "metadata": {},
   "source": [
    "How does the language of a movie interact with its genre in terms of box office revenue? Are certain genres more successful in specific languages?"
   ]
  },
  {
   "cell_type": "code",
   "execution_count": null,
   "metadata": {},
   "outputs": [],
   "source": []
  }
 ],
 "metadata": {
  "kernelspec": {
   "display_name": "ada",
   "language": "python",
   "name": "python3"
  },
  "language_info": {
   "codemirror_mode": {
    "name": "ipython",
    "version": 3
   },
   "file_extension": ".py",
   "mimetype": "text/x-python",
   "name": "python",
   "nbconvert_exporter": "python",
   "pygments_lexer": "ipython3",
   "version": "3.11.9"
  }
 },
 "nbformat": 4,
 "nbformat_minor": 2
}
