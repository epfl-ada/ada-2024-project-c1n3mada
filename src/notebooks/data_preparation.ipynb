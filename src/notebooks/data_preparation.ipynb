{
 "cells": [
  {
   "cell_type": "markdown",
   "metadata": {},
   "source": [
    "# Data Loading, Preprocessing, and Merging"
   ]
  },
  {
   "cell_type": "markdown",
   "metadata": {},
   "source": [
    "## 1. Introduction\n",
    "\n",
    "This notebook focuses on preparing and combining movie data from multiple sources for comprehensive financial success analysis. The main datasets used are:\n",
    "\n",
    "- CMU Movie Summary Corpus: Contains detailed movie metadata, plot summaries, and character information\n",
    "- TMDB (The Movie Database): Provides extensive movie metadata including budget and revenue information\n",
    "- IMDb (Internet Movie Database): Contains comprehensive movie information, ratings, and crew details\n",
    "\n",
    "The end goal is to create a unified, clean dataset that combines these sources, with properly handled missing values, standardized formats, and inflation-adjusted financial figures. This processed dataset will serve as the foundation for analyzing factors in movie success."
   ]
  },
  {
   "cell_type": "markdown",
   "metadata": {},
   "source": [
    "## 2. Imports and Setup"
   ]
  },
  {
   "cell_type": "code",
   "execution_count": 1,
   "metadata": {},
   "outputs": [],
   "source": [
    "import os\n",
    "import sys\n",
    "import warnings\n",
    "import numpy as np\n",
    "import pandas as pd\n",
    "import seaborn as sns\n",
    "import matplotlib.pyplot as plt\n",
    "\n",
    "parent_directory = os.path.abspath(os.path.join(os.getcwd(), os.pardir))\n",
    "sys.path.insert(0, parent_directory)\n",
    "\n",
    "from src.utils.data_utils import (\n",
    "    load_cmu_movies_data,\n",
    "    preprocess_cmu_movies_data,\n",
    "    load_tmdb_data,\n",
    "    preprocess_tmdb_data,\n",
    "    load_imdb_data,\n",
    "    preprocess_imdb_data,\n",
    ")\n",
    "\n",
    "from src.utils.merge_utils import (\n",
    "    merge_cmu_tmdb_data,\n",
    "    merge_with_imdb_data,\n",
    ")\n",
    "\n",
    "from src.utils.general_utils import (\n",
    "    perform_final_checks,\n",
    "    adjust_for_inflation,\n",
    ")\n",
    "\n",
    "warnings.filterwarnings('ignore')\n",
    "\n",
    "# change working directory\n",
    "if os.getcwd().split(\"/\")[-1] != \"ada-2024-project-c1n3mada\":\n",
    "    os.chdir(\"..\")\n",
    "\n",
    "# auto-reload modules\n",
    "%load_ext autoreload\n",
    "%autoreload 2"
   ]
  },
  {
   "cell_type": "markdown",
   "metadata": {},
   "source": [
    "## 3.  Loading the Data"
   ]
  },
  {
   "cell_type": "code",
   "execution_count": 4,
   "metadata": {},
   "outputs": [],
   "source": [
    "# Set path to data\n",
    "path = \"data/\"\n",
    "\n",
    "# Load CMU Movie Summary Corpus data\n",
    "df_movies, df_plots, df_characters = load_cmu_movies_data(path)\n",
    "\n",
    "# Load TMDB data\n",
    "df_tmdb = load_tmdb_data(path)\n",
    "\n",
    "# Load IMDb data\n",
    "df_title_basics, df_title_ratings, df_title_crew, df_name_basics = load_imdb_data(path)"
   ]
  },
  {
   "cell_type": "markdown",
   "metadata": {},
   "source": [
    "## 4. Initial Exploration\n",
    "\n",
    "- statistics summary for each dataset\n",
    "- Missing values\n",
    "- Basic distributions"
   ]
  },
  {
   "cell_type": "code",
   "execution_count": 5,
   "metadata": {},
   "outputs": [
    {
     "name": "stdout",
     "output_type": "stream",
     "text": [
      "=== CMU Movies Dataset ===\n",
      "Number of movies: 81741\n",
      "\n",
      "Key statistics for movie runtime and revenue:\n",
      "       movie_runtime  movie_box_office_revenue\n",
      "count   6.129100e+04              8.401000e+03\n",
      "mean    1.118192e+02              4.799363e+07\n",
      "std     4.360070e+03              1.121753e+08\n",
      "min     0.000000e+00              1.000000e+04\n",
      "25%     8.100000e+01              2.083193e+06\n",
      "50%     9.300000e+01              1.063969e+07\n",
      "75%     1.060000e+02              4.071696e+07\n",
      "max     1.079281e+06              2.782275e+09\n",
      "\n",
      "Missing values:\n",
      "wiki_movie_id                   0\n",
      "freebase_movie_id               0\n",
      "movie_name                      0\n",
      "movie_release_date           6902\n",
      "movie_box_office_revenue    73340\n",
      "movie_runtime               20450\n",
      "movie_languages                 0\n",
      "movie_countries                 0\n",
      "movie_genres                    0\n",
      "dtype: int64\n",
      "\n",
      "=== TMDB Dataset ===\n",
      "Number of movies: 45466\n",
      "\n",
      "Key statistics for budget and revenue:\n",
      "            revenue\n",
      "count  4.546000e+04\n",
      "mean   1.120935e+07\n",
      "std    6.433225e+07\n",
      "min    0.000000e+00\n",
      "25%    0.000000e+00\n",
      "50%    0.000000e+00\n",
      "75%    0.000000e+00\n",
      "max    2.787965e+09\n",
      "\n",
      "Missing values in key columns:\n",
      "budget           0\n",
      "revenue          6\n",
      "release_date    87\n",
      "dtype: int64\n",
      "\n",
      "=== IMDb Dataset ===\n",
      "Number of titles: 11313210\n",
      "\n",
      "Number of Votes distribution:\n",
      "count    1.512378e+06\n",
      "mean     1.026868e+03\n",
      "std      1.777131e+04\n",
      "min      5.000000e+00\n",
      "25%      1.100000e+01\n",
      "50%      2.600000e+01\n",
      "75%      1.000000e+02\n",
      "max      2.977127e+06\n",
      "Name: numVotes, dtype: float64\n",
      "\n",
      "Ratings distribution:\n",
      "count    1.512378e+06\n",
      "mean     6.952893e+00\n",
      "std      1.386924e+00\n",
      "min      1.000000e+00\n",
      "25%      6.200000e+00\n",
      "50%      7.100000e+00\n",
      "75%      7.900000e+00\n",
      "max      1.000000e+01\n",
      "Name: averageRating, dtype: float64\n"
     ]
    }
   ],
   "source": [
    "# TODO Said's Note: Not sure about this part\n",
    "\n",
    "# CMU Dataset Overview\n",
    "print(\"=== CMU Movies Dataset ===\")\n",
    "print(f\"Number of movies: {len(df_movies)}\")\n",
    "print(\"\\nKey statistics for movie runtime and revenue:\")\n",
    "print(df_movies[[\"movie_runtime\", \"movie_box_office_revenue\"]].describe())\n",
    "print(\"\\nMissing values:\")\n",
    "print(df_movies.isnull().sum())\n",
    "\n",
    "# TMDB Dataset Overview\n",
    "print(\"\\n=== TMDB Dataset ===\")\n",
    "print(f\"Number of movies: {len(df_tmdb)}\")\n",
    "print(\"\\nKey statistics for budget and revenue:\")\n",
    "print(df_tmdb[[\"budget\", \"revenue\"]].describe())\n",
    "print(\"\\nMissing values in key columns:\")\n",
    "print(df_tmdb[[\"budget\", \"revenue\", \"release_date\"]].isnull().sum())\n",
    "\n",
    "# IMDb Dataset Overview\n",
    "print(\"\\n=== IMDb Dataset ===\")\n",
    "print(f\"Number of titles: {len(df_title_basics)}\")\n",
    "print(\"\\nNumber of Votes distribution:\")\n",
    "print(df_title_ratings[\"numVotes\"].describe())\n",
    "print(\"\\nRatings distribution:\")\n",
    "print(df_title_ratings[\"averageRating\"].describe())"
   ]
  },
  {
   "cell_type": "markdown",
   "metadata": {},
   "source": [
    "## 5. Data Preprocessing"
   ]
  },
  {
   "cell_type": "code",
   "execution_count": 6,
   "metadata": {},
   "outputs": [],
   "source": [
    "# Preprocess CMU movies data\n",
    "df_movies, df_characters = preprocess_cmu_movies_data(df_movies, df_characters)\n",
    "\n",
    "# Preprocess TMDB data\n",
    "df_tmdb = preprocess_tmdb_data(df_tmdb)\n",
    "\n",
    "# Preprocess IMDb data (currently no additional preprocessing is applied)\n",
    "df_title_basics, df_title_ratings, df_title_crew, df_name_basics = preprocess_imdb_data(\n",
    "    df_title_basics, df_title_ratings, df_title_crew, df_name_basics\n",
    ")"
   ]
  },
  {
   "cell_type": "markdown",
   "metadata": {},
   "source": [
    "## 6. Dataset Merging"
   ]
  },
  {
   "cell_type": "code",
   "execution_count": 7,
   "metadata": {},
   "outputs": [],
   "source": [
    "# Merge CMU movies data with TMDB data\n",
    "df_movies_merged = merge_cmu_tmdb_data(df_movies, df_tmdb)\n",
    "\n",
    "# Merge with IMDb data\n",
    "df_movies_combined = merge_with_imdb_data(\n",
    "    df_movies_merged, df_title_basics, df_title_ratings, df_title_crew, df_name_basics\n",
    ")"
   ]
  },
  {
   "cell_type": "markdown",
   "metadata": {},
   "source": [
    "## 7. Dataset Cleaning"
   ]
  },
  {
   "cell_type": "code",
   "execution_count": 8,
   "metadata": {},
   "outputs": [
    {
     "name": "stdout",
     "output_type": "stream",
     "text": [
      "Missing values in averageRating column after merge: 0\n",
      "Missing values in numVotes column after merge: 0\n",
      "Missing values in director column after merge: 0\n"
     ]
    }
   ],
   "source": [
    "# drop the rows with missing values in the combined_revenue column\n",
    "df_movies_combined = df_movies_combined.dropna(subset=[\"combined_revenue\"])\n",
    "\n",
    "# remove the rows that have a revenue of less than 1000 (most likely incorrect data)\n",
    "df_movies_combined = df_movies_combined[df_movies_combined[\"combined_revenue\"] > 1000]\n",
    "\n",
    "# Fill missing values with 0 or 'Unknown' (better imputation may be needed)\n",
    "df_movies_combined[\"averageRating\"].fillna(0, inplace=True)\n",
    "df_movies_combined[\"numVotes\"].fillna(0, inplace=True)\n",
    "df_movies_combined[\"director\"].fillna(\"Unknown\", inplace=True)\n",
    "\n",
    "\n",
    "print(\n",
    "    \"Missing values in averageRating column after merge:\",\n",
    "    df_movies_combined[\"averageRating\"].isnull().sum(),\n",
    ")\n",
    "print(\n",
    "    \"Missing values in numVotes column after merge:\",\n",
    "    df_movies_combined[\"numVotes\"].isnull().sum(),\n",
    ")\n",
    "print(\n",
    "    \"Missing values in director column after merge:\",\n",
    "    df_movies_combined[\"director\"].isnull().sum(),\n",
    ")"
   ]
  },
  {
   "cell_type": "markdown",
   "metadata": {},
   "source": [
    "## 8. Inflation correction"
   ]
  },
  {
   "cell_type": "markdown",
   "metadata": {},
   "source": [
    "### 8.1 Load CPI (Consumer Price Index) Data"
   ]
  },
  {
   "cell_type": "code",
   "execution_count": null,
   "metadata": {},
   "outputs": [
    {
     "name": "stdout",
     "output_type": "stream",
     "text": [
      "CPI data ranges from 1913 to 2024\n"
     ]
    }
   ],
   "source": [
    "# Load historical CPI data\n",
    "df_cpi = pd.read_csv(\"data/Inflation/CPIAUCNS.csv\")\n",
    "\n",
    "# Convert date to year and calculate yearly average CPI\n",
    "df_cpi[\"year\"] = pd.to_datetime(df_cpi[\"observation_date\"]).dt.year\n",
    "cpi = df_cpi[[\"year\", \"CPIAUCNS\"]].groupby(\"year\").mean().reset_index()\n",
    "\n",
    "print(f\"CPI data ranges from {cpi['year'].min()} to {cpi['year'].max()}\")"
   ]
  },
  {
   "cell_type": "markdown",
   "metadata": {},
   "source": [
    "### 8.2 Handle Pre-CPI Data"
   ]
  },
  {
   "cell_type": "code",
   "execution_count": 9,
   "metadata": {},
   "outputs": [
    {
     "name": "stdout",
     "output_type": "stream",
     "text": [
      "Found 1 movies released before 1913 (earliest CPI data)\n",
      "Removing these movies as inflation adjustment wouldn't be accurate\n"
     ]
    }
   ],
   "source": [
    "# Check for movies older than available CPI data\n",
    "pre_cpi_movies = df_movies_combined[\n",
    "    df_movies_combined[\"release_year\"] < cpi[\"year\"].min()\n",
    "]\n",
    "if not pre_cpi_movies.empty:\n",
    "    print(\n",
    "        f\"Found {len(pre_cpi_movies)} movies released before {cpi['year'].min()} (earliest CPI data)\"\n",
    "    )\n",
    "    print(\"Removing these movies as inflation adjustment wouldn't be accurate\")\n",
    "    df_movies_combined = df_movies_combined[\n",
    "        df_movies_combined[\"release_year\"] >= cpi[\"year\"].min()\n",
    "    ]"
   ]
  },
  {
   "cell_type": "markdown",
   "metadata": {},
   "source": [
    "### 8.3 Inflation Adjustment Function"
   ]
  },
  {
   "cell_type": "code",
   "execution_count": 10,
   "metadata": {},
   "outputs": [
    {
     "name": "stdout",
     "output_type": "stream",
     "text": [
      "Revenues adjusted to 2016 dollars\n"
     ]
    }
   ],
   "source": [
    "# Apply inflation adjustment\n",
    "target_year = int(df_movies_combined[\"release_year\"].max())\n",
    "df_movies_combined = adjust_for_inflation(df_movies_combined, cpi, target_year)\n",
    "\n",
    "print(f\"Revenues adjusted to {target_year} dollars\")"
   ]
  },
  {
   "cell_type": "markdown",
   "metadata": {},
   "source": [
    "### 8.4 Verification Plot"
   ]
  },
  {
   "cell_type": "code",
   "execution_count": 11,
   "metadata": {},
   "outputs": [
    {
     "data": {
      "image/png": "[encoded data removed]",
      "text/plain": [
       "<Figure size 1400x600 with 1 Axes>"
      ]
     },
     "metadata": {},
     "output_type": "display_data"
    },
    {
     "name": "stdout",
     "output_type": "stream",
     "text": [
      "\n",
      "Summary Statistics:\n",
      "Original Revenue Mean: $45,567,454.24\n",
      "Inflation-Adjusted Revenue Mean: $77,204,274.43\n",
      "Inflation Adjustment Factor Range: 1.69x\n"
     ]
    }
   ],
   "source": [
    "plt.figure(figsize=(14, 6))\n",
    "\n",
    "# Calculate yearly averages\n",
    "yearly_avg = df_movies_combined.groupby(\"release_year\")[\"combined_revenue\"].mean()\n",
    "yearly_inflated_avg = df_movies_combined.groupby(\"release_year\")[\n",
    "    \"inflated_revenue\"\n",
    "].mean()\n",
    "\n",
    "# Plot both original and inflation-adjusted revenues\n",
    "sns.lineplot(\n",
    "    x=yearly_avg.index, y=yearly_avg.values, color=\"red\", label=\"Original Revenue\"\n",
    ")\n",
    "sns.lineplot(\n",
    "    x=yearly_inflated_avg.index,\n",
    "    y=yearly_inflated_avg.values,\n",
    "    color=\"blue\",\n",
    "    label=\"Inflation-Adjusted Revenue\",\n",
    ")\n",
    "\n",
    "plt.title(\"Average Box Office Revenue Over Time\")\n",
    "plt.xlabel(\"Release Year\")\n",
    "plt.ylabel(\"Box Office Revenue ($)\")\n",
    "plt.grid(True, alpha=0.3)\n",
    "plt.legend()\n",
    "plt.show()\n",
    "\n",
    "# Print summary statistics\n",
    "print(\"\\nSummary Statistics:\")\n",
    "print(f\"Original Revenue Mean: ${df_movies_combined['combined_revenue'].mean():,.2f}\")\n",
    "print(\n",
    "    f\"Inflation-Adjusted Revenue Mean: ${df_movies_combined['inflated_revenue'].mean():,.2f}\"\n",
    ")\n",
    "print(\n",
    "    f\"Inflation Adjustment Factor Range: {df_movies_combined['inflated_revenue'].mean() / df_movies_combined['combined_revenue'].mean():.2f}x\"\n",
    ")"
   ]
  },
  {
   "cell_type": "markdown",
   "metadata": {},
   "source": [
    "## 9. Final Checks and Export"
   ]
  },
  {
   "cell_type": "markdown",
   "metadata": {},
   "source": [
    "### 9.1 Data Quality Checks"
   ]
  },
  {
   "cell_type": "code",
   "execution_count": 12,
   "metadata": {},
   "outputs": [
    {
     "name": "stdout",
     "output_type": "stream",
     "text": [
      "Performing final data quality checks...\n",
      "\n",
      "All checks passed! Dataset summary:\n",
      "Total number of movies: 9,579\n",
      "Date range: 1914 to 2016\n",
      "Average inflation-adjusted revenue: $77,204,274.43\n",
      "Number of unique genres: 318\n"
     ]
    }
   ],
   "source": [
    "# Perform final validation checks\n",
    "checks_passed = perform_final_checks(df_movies_combined)"
   ]
  },
  {
   "cell_type": "markdown",
   "metadata": {},
   "source": [
    "### 9.2 Data Export"
   ]
  },
  {
   "cell_type": "code",
   "execution_count": null,
   "metadata": {},
   "outputs": [],
   "source": [
    "if checks_passed:\n",
    "    # Create output directory if it doesn't exist\n",
    "    output_dir = \"data/processed/\"\n",
    "    os.makedirs(output_dir, exist_ok=True)\n",
    "\n",
    "    # Export to CSV\n",
    "    output_path = f\"{output_dir}movies_processed_new.csv\"\n",
    "    df_movies_combined.to_csv(output_path, index=False)\n",
    "else:\n",
    "    raise ValueError(\"Final validation checks failed. Please review the data.\")"
   ]
  }
 ],
 "metadata": {
  "kernelspec": {
   "display_name": "ada",
   "language": "python",
   "name": "python3"
  },
  "language_info": {
   "codemirror_mode": {
    "name": "ipython",
    "version": 3
   },
   "file_extension": ".py",
   "mimetype": "text/x-python",
   "name": "python",
   "nbconvert_exporter": "python",
   "pygments_lexer": "ipython3",
   "version": "3.11.9"
  }
 },
 "nbformat": 4,
 "nbformat_minor": 2
}
