{
 "cells": [
  {
   "cell_type": "markdown",
   "metadata": {},
   "source": [
    "<div style=\"\n",
    "    background-color: #1a1a1a; \n",
    "    padding: 40px; \n",
    "    border-radius: 20px; \n",
    "    text-align: center; \n",
    "    font-family: 'Garamond', serif; \n",
    "    box-shadow: 0 6px 18px rgba(0, 0, 0, 0.8); \n",
    "    color: white;\">\n",
    "    \n",
    "\n",
    "<div style=\"\n",
    "        font-size: 1.2em; \n",
    "        color: #BFA86A; \n",
    "        font-weight: bold; \n",
    "        letter-spacing: 2px;\">\n",
    "        ✦ A CINEMATIC EXPERIENCE ✦\n",
    "</div>   \n",
    "\n",
    "<h1 style=\"\n",
    "        font-size: 3.2em; \n",
    "        margin: 20px 0; \n",
    "        color: #E3D9B6; \n",
    "        font-weight: bold; \n",
    "        text-transform: uppercase;\">\n",
    "        Money, Money, Movies\n",
    "</h1>    \n",
    "\n",
    "<h2 style=\"\n",
    "        font-size: 2em; \n",
    "        margin: 10px 0; \n",
    "        font-style: italic; \n",
    "        color: #D4C593;\">\n",
    "        The Secrets of Movies' Box Office Success\n",
    "</h2>\n",
    "\n",
    "    \n",
    "<div style=\"\n",
    "        font-size: 1em; \n",
    "        color: #999; \n",
    "        margin-top: 20px;\">\n",
    "        🎥 A Production by <strong style=\"color: #E3D9B6;\">C1n3mada Studios</strong>\n",
    "</div>\n",
    "</div>\n"
   ]
  },
  {
   "cell_type": "markdown",
   "metadata": {},
   "source": [
    "### Importing Libraries"
   ]
  },
  {
   "cell_type": "code",
   "execution_count": 1,
   "metadata": {},
   "outputs": [],
   "source": [
    "import ast\n",
    "import warnings\n",
    "from collections import Counter\n",
    "from itertools import chain\n",
    "\n",
    "import matplotlib.pyplot as plt\n",
    "import numpy as np\n",
    "import pandas as pd\n",
    "import plotly.express as px\n",
    "import plotly.graph_objects as go\n",
    "import seaborn as sns\n",
    "import statsmodels.api as sm\n",
    "import statsmodels.formula.api as smf\n",
    "from IPython.display import clear_output\n",
    "from ipywidgets import interact, widgets\n",
    "from scipy import stats\n",
    "from scipy.stats import f_oneway, pearsonr, spearmanr\n",
    "from statsmodels.formula.api import ols\n",
    "from tabulate import tabulate\n",
    "\n",
    "from src.utils.plot_utils import revenue_formatter\n",
    "\n",
    "warnings.filterwarnings(\"ignore\")\n",
    "%matplotlib inline\n",
    "# auto-reload modules\n",
    "%load_ext autoreload\n",
    "%autoreload 2"
   ]
  },
  {
   "cell_type": "code",
   "execution_count": null,
   "metadata": {},
   "outputs": [],
   "source": [
    "from src.utils.interactive_plots_utils_said_movie_1 import (\n",
    "    plot_num_of_movies_per_genre,\n",
    "    plot_imdb_rating_distribution,\n",
    "    plot_box_office_revenue_distribution,\n",
    "    plot_imdb_rating_vs_box_office_revenue_v1,\n",
    "    plot_imdb_rating_vs_box_office_revenue,\n",
    "    plot_correlation_matrix,\n",
    "    plot_genre_correlation,\n",
    "    plot_3d_regression_plane,\n",
    "    plot_hexbin_regression_plane,\n",
    ")"
   ]
  },
  {
   "cell_type": "markdown",
   "metadata": {},
   "source": [
    "### Loading the Dataset"
   ]
  },
  {
   "cell_type": "code",
   "execution_count": null,
   "metadata": {},
   "outputs": [],
   "source": [
    "# load the dataset\n",
    "PATH = \"data/processed/movies_processed.csv\"\n",
    "df = pd.read_csv(PATH)\n",
    "\n",
    "df.head()"
   ]
  },
  {
   "cell_type": "markdown",
   "metadata": {},
   "source": [
    "# Movie 1: Echo 📢 \n",
    "## How does a movie’s IMDb rating relate to its box office success?\n",
    "\n",
    "The film industry is a complex ecosystem where various factors contribute to a movie’s success. Among these factors, audience reception and financial performance are two critical metrics. This analysis aims to explore the relationship between a movie’s IMDb rating—a reflection of audience and critic reception—and its box office revenue. Understanding this relationship can provide valuable insights for filmmakers, producers, investors as well as researchers such as ourselves.\n",
    "\n",
    "**🏗️ Analysis Structure:**\n",
    "\n",
    "- **Data Preparation**\n",
    "  - Relevant columns\n",
    "  - Handling missing values\n",
    "  - Handling duplicates\n",
    "  - ...\n",
    "- **Exploratory Data Analysis**\n",
    "  - Summary statistics\n",
    "  - Number of movies per genre\n",
    "  - Distribution of IMDb ratings\n",
    "  - Distribution of box office revenue\n",
    "  - ...\n",
    "- **Regression Analysis**\n",
    "  - ...\n",
    "- ...\n",
    "\n",
    "**🏗️ Analysis Structure:**\n",
    "\n",
    "- **Data Preparation**\n",
    "  - We select the `averageRating`, `inflated_revenue`, `numVotes`, and `movie_genres` columns for our analysis.\n",
    "  - Missing values in these columns are removed.\n",
    "  - Duplicate entries are removed.\n",
    "  - The genre strings are converted into lists of individual genres.\n",
    "- **Exploratory Data Analysis**\n",
    "  - We compute descriptive statistics for `averageRating`, `inflated_revenue`, and `numVotes`.\n",
    "  - The frequency of each genre is calculated and visualized.\n",
    "  - The distribution of IMDb ratings is shown with a histogram.\n",
    "  - Histograms illustrate the distribution of box office revenue, with and without log transformation.\n",
    "  - A scatter plot explores the relationship between IMDb ratings and log-transformed box office revenue.\n",
    "- **Correlation Analysis**\n",
    "  - We determine the Pearson and Spearman correlation coefficients between IMDb rating and inflated revenue.\n",
    "  - A heatmap visualizes the correlations between `averageRating`, `inflated_revenue`, and `numVotes`.\n",
    "- **Genre-wise Correlation**\n",
    "  - Pearson and Spearman correlations are computed for each genre, examining the relationship between ratings and log-transformed revenue.\n",
    "  - These correlations are compared across genres using a horizontal bar plot.\n",
    "- **Regression Analysis**\n",
    "  - A simple linear regression model predicts log-transformed revenue from IMDb ratings.\n",
    "  - A multiple linear regression model incorporates both IMDb rating and log-transformed number of votes to predict log-transformed revenue.\n",
    "  - The multiple linear regression plane is visualized in 3D.\n",
    "  - A regression plot shows the relationship between IMDb rating and log-transformed revenue, overlaid with the regression line.\n",
    "  - A hexbin plot, along with a regression line, provides a clearer visualization of the relationship between rating and log-transformed revenue, handling the density of data points effectively.\n",
    "\n",
    "\n",
    "\n",
    "\n",
    "**🏗️ Analysis Structure:**\n",
    "\n",
    "- **Data Preparation**\n",
    "  - Relevant columns: `averageRating`, `inflated_revenue`, `numVotes`, `movie_genres`\n",
    "  - Handling missing values: Removing entries with missing values in the relevant columns.\n",
    "  - Handling duplicates: Removing duplicate entries.\n",
    "  - Genre processing: Converting the string representation of genres into a list of genres.\n",
    "- **Exploratory Data Analysis**\n",
    "  - Summary statistics: Calculating descriptive statistics for `averageRating`, `inflated_revenue`, and `numVotes`.\n",
    "  - Number of movies per genre: Counting and visualizing the frequency of each genre.\n",
    "  - Distribution of IMDb ratings: Visualizing the distribution using a histogram.\n",
    "  - Distribution of box office revenue: Visualizing the distribution using histograms, both with and without log transformation.\n",
    "  - Scatter plot: Visualizing the relationship between IMDb ratings and box office revenue (log-transformed).\n",
    "- **Correlation Analysis**\n",
    "  - Pearson correlation: Calculating the Pearson correlation coefficient between IMDb rating and inflated revenue.\n",
    "  - Spearman correlation: Calculating the Spearman rank correlation coefficient between the same variables.\n",
    "  - Correlation matrix heatmap: Visualizing the correlations between `averageRating`, `inflated_revenue`, and `numVotes`.\n",
    "- **Genre-wise Correlation**\n",
    "  - Calculating correlation coefficients: Computing Pearson and Spearman correlations between rating and log-transformed revenue for each genre.\n",
    "  - Visualizing correlations: Using a horizontal bar plot to compare Pearson and Spearman correlations for each genre.\n",
    "- **Regression Analysis**\n",
    "  - Simple linear regression: Modeling the relationship between IMDb rating and log-transformed revenue.\n",
    "  - Multiple linear regression: Modeling the relationship between IMDb rating, log-transformed number of votes, and log-transformed revenue.\n",
    "  - 3D visualization: Visualizing the multiple linear regression plane.\n",
    "  - Regression plot: Visualizing the regression line against the scatter plot of IMDb rating and log-transformed revenue.\n",
    "  - Hexbin plot: Creating a hexbin plot with a regression line to better visualize the relationship between rating and log-transformed revenue.\n",
    "\n",
    "\n",
    "\n",
    "**🏗️ Analysis Structure:**\n",
    "\n",
    "- **Data Preparation**\n",
    "  - **Columns:** We use `averageRating`, `inflated_revenue`, `numVotes`, and `movie_genres`.\n",
    "  - **Missing Data:** Entries with missing values are removed.\n",
    "  - **Duplicates:** Duplicate entries are removed.\n",
    "  - **Genres:** Genre strings are converted to lists.\n",
    "- **Exploratory Data Analysis (EDA)**\n",
    "  - **Descriptive Statistics:** We examine the distributions of ratings, revenue, and votes.\n",
    "  - **Genre Counts:** We analyze and visualize the frequency of each genre.\n",
    "  - **Rating Distribution:** A histogram displays the distribution of IMDb ratings.\n",
    "  - **Revenue Distribution:**  Histograms show revenue distribution, both raw and log-transformed.\n",
    "  - **Ratings vs. Revenue:** A scatter plot explores the relationship between IMDb ratings and log-transformed revenue.\n",
    "- **Correlation Analysis**\n",
    "  - **Pearson & Spearman:** We compute both correlation coefficients between ratings and revenue.\n",
    "  - **Correlation Matrix:** A heatmap visualizes the relationships between ratings, revenue, and votes.\n",
    "- **Genre-Specific Correlations**\n",
    "  - **By Genre:** We compute Pearson and Spearman correlations for each genre (ratings vs. log-transformed revenue).\n",
    "  - **Visual Comparison:** A bar plot compares correlations across genres.\n",
    "- **Regression Analysis**\n",
    "  - **Simple Regression:** We model log-transformed revenue as a function of IMDb ratings.\n",
    "  - **Multiple Regression:** We add log-transformed vote counts to the regression model.\n",
    "  - **3D Visualization:** We visualize the multiple regression plane.\n",
    "  - **Regression Plot:** We visualize the regression line against the data.\n",
    "  - **Hexbin Plot:** A hexbin plot with regression line provides a clearer view of the relationship, handling data density effectively."
   ]
  },
  {
   "cell_type": "markdown",
   "metadata": {},
   "source": [
    "### Data Preparation"
   ]
  },
  {
   "cell_type": "markdown",
   "metadata": {},
   "source": [
    "#### Relevant Columns\n",
    "For this analysis, we’ll focus on the following columns:\n",
    "*\t`averageRating`: The IMDb rating of the movie.\n",
    "*\t`inflated_revenue`: The box office revenue adjusted for inflation.\n",
    "*\t`numVotes`: The number of votes the movie received on IMDb.\n",
    "*   `movie_genres`: The genres of the movie."
   ]
  },
  {
   "cell_type": "code",
   "execution_count": 3,
   "metadata": {},
   "outputs": [],
   "source": [
    "# Select relevant columns\n",
    "df_rating = df[\n",
    "    [\"movie_name\", \"averageRating\", \"inflated_revenue\", \"numVotes\", \"movie_genres\"]\n",
    "]"
   ]
  },
  {
   "cell_type": "markdown",
   "metadata": {},
   "source": [
    "#### Handling Missing Values\n",
    "We’ll check and remove the rows that contains no votes or revenue information."
   ]
  },
  {
   "cell_type": "code",
   "execution_count": 4,
   "metadata": {},
   "outputs": [],
   "source": [
    "# Drop rows with missing values or zero numVotes\n",
    "df_rating.dropna(\n",
    "    subset=[\"averageRating\", \"inflated_revenue\", \"numVotes\"],\n",
    "    inplace=True,\n",
    ")\n",
    "df_rating = df_rating[df_rating.numVotes > 0]"
   ]
  },
  {
   "cell_type": "markdown",
   "metadata": {},
   "source": [
    "#### Handling Duplicates"
   ]
  },
  {
   "cell_type": "code",
   "execution_count": 5,
   "metadata": {},
   "outputs": [],
   "source": [
    "# Check for duplicates\n",
    "df_rating.duplicated().sum()\n",
    "\n",
    "# remove duplicates if any\n",
    "df_rating.drop_duplicates(inplace=True)"
   ]
  },
  {
   "cell_type": "code",
   "execution_count": 6,
   "metadata": {},
   "outputs": [],
   "source": [
    "# Split genres into a list of genres names\n",
    "df_rating[\"genres_list\"] = df_rating[\"movie_genres\"].apply(\n",
    "    lambda x: [genre[1] for genre in eval(x)]\n",
    ")"
   ]
  },
  {
   "cell_type": "markdown",
   "metadata": {},
   "source": [
    "### Exploratory Data Analysis"
   ]
  },
  {
   "cell_type": "markdown",
   "metadata": {},
   "source": [
    "<div class=\"alert alert-success\"> 💭 <strong>Idea:</strong> \n",
    "\n",
    "- Understand the distribution of IMDb ratings. \n",
    "- Analyze the distribution of box office revenue. \n",
    "- Explore the relationship between IMDb ratings and box office revenue. \n",
    "- Investigate the number of movies per genre. \n",
    "</div> <div class=\"alert alert-warning\"> 🛠️ <strong>Methods:</strong>\n",
    "\n",
    " - Use descriptive statistics to summarize the data. \n",
    " - Visualize the distribution of IMDb ratings using histograms. \n",
    " - Visualize the distribution of box office revenue using histograms with a logarithmic scale. \n",
    " - Use bar plots to show the number of movies per genre. \n",
    " - Use scatter plots to explore the relationship between IMDb ratings and box office revenue. </div>"
   ]
  },
  {
   "cell_type": "markdown",
   "metadata": {},
   "source": [
    "#### Summary Statistics"
   ]
  },
  {
   "cell_type": "code",
   "execution_count": null,
   "metadata": {},
   "outputs": [],
   "source": [
    "df_rating.describe()"
   ]
  },
  {
   "cell_type": "markdown",
   "metadata": {},
   "source": [
    "#### Number of Movies per Genre"
   ]
  },
  {
   "cell_type": "code",
   "execution_count": null,
   "metadata": {},
   "outputs": [],
   "source": [
    "# Explode the genres_list to count each genre separately\n",
    "genre_counts = df_rating.explode(\"genres_list\")[\"genres_list\"].value_counts()\n",
    "\n",
    "# get the most common 20 genres\n",
    "genre_counts_top20 = genre_counts.head(20)\n",
    "\n",
    "\n",
    "plt.figure(figsize=(12, 6))\n",
    "sns.barplot(\n",
    "    x=genre_counts_top20.index,\n",
    "    y=genre_counts_top20.values,\n",
    "    palette=\"viridis\",\n",
    "    hue=genre_counts_top20.index,\n",
    ")\n",
    "plt.title(\"Number of Movies per Genre\")\n",
    "plt.xlabel(\"Genre\")\n",
    "plt.ylabel(\"Number of Movies\")\n",
    "plt.xticks(rotation=45)\n",
    "plt.show()"
   ]
  },
  {
   "cell_type": "code",
   "execution_count": null,
   "metadata": {},
   "outputs": [],
   "source": [
    "plot_num_of_movies_per_genre(df_rating)"
   ]
  },
  {
   "cell_type": "markdown",
   "metadata": {},
   "source": [
    "#### Distribution of IMDb Ratings"
   ]
  },
  {
   "cell_type": "code",
   "execution_count": null,
   "metadata": {},
   "outputs": [],
   "source": [
    "plt.figure(figsize=(10, 6))\n",
    "sns.histplot(df_rating[\"averageRating\"], bins=20, kde=True, color=\"skyblue\")\n",
    "plt.title(\"Distribution of IMDb Ratings\")\n",
    "plt.xlabel(\"IMDb Rating\")\n",
    "plt.ylabel(\"Frequency\")\n",
    "plt.show()"
   ]
  },
  {
   "cell_type": "code",
   "execution_count": null,
   "metadata": {},
   "outputs": [],
   "source": [
    "plot_imdb_rating_distribution(df_rating)"
   ]
  },
  {
   "cell_type": "markdown",
   "metadata": {},
   "source": [
    "#### Distribution of Box Office Revenue\n",
    "Due to the wide range of revenues, we’ll use a logarithmic scale."
   ]
  },
  {
   "cell_type": "code",
   "execution_count": null,
   "metadata": {},
   "outputs": [],
   "source": [
    "plt.figure(figsize=(10, 6))\n",
    "sns.histplot(df_rating[\"inflated_revenue\"], bins=20, kde=True, color=\"blue\")\n",
    "plt.title(\"Distribution of Box Office Revenue\")\n",
    "plt.xlabel(\"Box Office Revenue\")\n",
    "plt.ylabel(\"Frequency\")\n",
    "plt.show()"
   ]
  },
  {
   "cell_type": "markdown",
   "metadata": {},
   "source": [
    "<div class=\"alert alert-info\">\n",
    "  💡 <strong>Discussion:</strong>\n",
    "\n",
    "  - For our analysis, we log-transformed the movie revenue data (using log base 10) for several reasons:\n",
    "    - **Distribution Properties**: As we can see from the Distribution of the Box Office Revenue plot above, movie revenues show a right-skewed distribution with a long tail of high-revenue outliers. Log transformation helps normalize this distribution.\n",
    "    - **Statistical Considerations**: The transformation helps meet OLS regression assumptions by:\n",
    "      - Making the relationship more linear\n",
    "      - Normalizing the distribution of errors\n",
    "\n",
    "</div>"
   ]
  },
  {
   "cell_type": "code",
   "execution_count": null,
   "metadata": {},
   "outputs": [],
   "source": [
    "plt.figure(figsize=(10, 6))\n",
    "sns.histplot(np.log10(df_rating[\"inflated_revenue\"]), bins=20, kde=True, color=\"salmon\")\n",
    "plt.title(\"Distribution of Log10 of Box Office Revenue\")\n",
    "plt.xlabel(\"Log10 of Box Office Revenue\")\n",
    "plt.ylabel(\"Frequency\")\n",
    "plt.show()"
   ]
  },
  {
   "cell_type": "code",
   "execution_count": null,
   "metadata": {},
   "outputs": [],
   "source": [
    "plot_box_office_revenue_distribution(df_rating)"
   ]
  },
  {
   "cell_type": "markdown",
   "metadata": {},
   "source": [
    "<div class=\"alert alert-info\">\n",
    "  💡 <strong>Discussion:</strong>\n",
    "\n",
    "  - As shown in the plots above, the log transformation provides a more normally distributed dependent variable.\n",
    "\n",
    "</div>"
   ]
  },
  {
   "cell_type": "markdown",
   "metadata": {},
   "source": [
    "#### Scatter Plot of IMDb Ratings vs. Box Office Revenue"
   ]
  },
  {
   "cell_type": "code",
   "execution_count": null,
   "metadata": {},
   "outputs": [],
   "source": [
    "plt.figure(figsize=(12, 8))\n",
    "sns.scatterplot(x=\"averageRating\", y=\"inflated_revenue\", data=df_rating, alpha=0.7)\n",
    "plt.title(\"IMDb Rating vs. Box Office Revenue\")\n",
    "plt.xlabel(\"IMDb Rating\")\n",
    "plt.ylabel(\"Box Office Revenue\")\n",
    "plt.show()"
   ]
  },
  {
   "cell_type": "markdown",
   "metadata": {},
   "source": [
    "<div class=\"alert alert-info\">\n",
    "  💡 <strong>Discussion:</strong>\n",
    "\n",
    "  - The scatter plot shows a lot of dispersion. To better visualize the data, we’ll apply a logarithmic transformation to the revenue.\n",
    "\n",
    "</div>"
   ]
  },
  {
   "cell_type": "code",
   "execution_count": null,
   "metadata": {},
   "outputs": [],
   "source": [
    "plt.figure(figsize=(12, 8))\n",
    "sns.scatterplot(\n",
    "    x=\"averageRating\",\n",
    "    y=np.log10(df_rating[\"inflated_revenue\"]),\n",
    "    data=df_rating,\n",
    "    alpha=0.7,\n",
    ")\n",
    "plt.title(\"IMDb Rating vs. Log10 of Box Office Revenue\")\n",
    "plt.xlabel(\"IMDb Rating\")\n",
    "plt.ylabel(\"Log10 of Box Office Revenue\")\n",
    "plt.show()"
   ]
  },
  {
   "cell_type": "code",
   "execution_count": null,
   "metadata": {},
   "outputs": [],
   "source": [
    "plot_imdb_rating_vs_box_office_revenue_v1(df_rating)"
   ]
  },
  {
   "cell_type": "code",
   "execution_count": null,
   "metadata": {},
   "outputs": [],
   "source": [
    "plot_imdb_rating_vs_box_office_revenue(df_rating)"
   ]
  },
  {
   "cell_type": "markdown",
   "metadata": {},
   "source": [
    "### Correlation Analysis"
   ]
  },
  {
   "cell_type": "markdown",
   "metadata": {},
   "source": [
    "\n",
    "Correlation analysis helps in understanding the strength and direction of the relationship between two variables. In this section, we will analyze the correlation between IMDb ratings and box office revenue.\n",
    "\n",
    "<div class=\"alert alert-success\"> 💭 <strong>Idea:</strong> \n",
    "\n",
    "- Determine the strength and direction of the relationship between IMDb ratings and box office revenue. \n",
    "- Identify if higher ratings are associated with higher revenues. \n",
    "</div> \n",
    "\n",
    "<div class=\"alert alert-warning\"> 🛠️ <strong>Methods:</strong> \n",
    "\n",
    "- Calculate the Pearson and spearman correlation coefficient between IMDb ratings and box office revenue. \n",
    "- Visualize the correlation using a heatmap. \n",
    "</div>"
   ]
  },
  {
   "cell_type": "markdown",
   "metadata": {},
   "source": [
    "#### Calculating the Correlation Coefficient"
   ]
  },
  {
   "cell_type": "code",
   "execution_count": null,
   "metadata": {},
   "outputs": [],
   "source": [
    "# Pearson correlation\n",
    "corr_pearson = df_rating[[\"averageRating\", \"inflated_revenue\"]].corr(method=\"pearson\")\n",
    "print(\"Pearson Correlation Coefficient:\")\n",
    "print(corr_pearson)\n",
    "\n",
    "# Spearman correlation\n",
    "corr_spearman = df_rating[[\"averageRating\", \"inflated_revenue\"]].corr(method=\"spearman\")\n",
    "print(\"\\nSpearman Correlation Coefficient:\")\n",
    "print(corr_spearman)"
   ]
  },
  {
   "cell_type": "markdown",
   "metadata": {},
   "source": [
    "#### Heatmap of Correlation Matrix"
   ]
  },
  {
   "cell_type": "code",
   "execution_count": null,
   "metadata": {},
   "outputs": [],
   "source": [
    "plt.figure(figsize=(8, 6))\n",
    "sns.heatmap(\n",
    "    df_rating[[\"averageRating\", \"inflated_revenue\", \"numVotes\"]].corr(),\n",
    "    annot=True,\n",
    "    cmap=\"crest\",\n",
    ")\n",
    "plt.title(\"Correlation Matrix\")\n",
    "plt.show()"
   ]
  },
  {
   "cell_type": "code",
   "execution_count": null,
   "metadata": {},
   "outputs": [],
   "source": [
    "plot_correlation_matrix(df_rating)"
   ]
  },
  {
   "cell_type": "markdown",
   "metadata": {},
   "source": [
    "<div class=\"alert alert-info\">\n",
    "  💡 <strong>Discussion:</strong>\n",
    "\n",
    "  - The Pearson correlation coefficient between IMDb rating and inflated revenue is 0.188, indicating a weak positive linear relationship.\n",
    "  - The Spearman correlation coefficient is 0.157, suggests a weak monotonic relationship.\n",
    "\n",
    "</div>"
   ]
  },
  {
   "cell_type": "markdown",
   "metadata": {},
   "source": [
    "### Genre-wise Correlation\n",
    "\n",
    "<div class=\"alert alert-success\"> 💭 <strong>Idea:</strong> \n",
    "\n",
    "Different genres might exhibit different relationships between ratings and revenue. As for different genres audiences might have different biases in rating movies. For instance, horror movies might get lower ratings due to the affects they have on the audience, but they might still be successful in terms of revenue.\n",
    "</div> "
   ]
  },
  {
   "cell_type": "markdown",
   "metadata": {},
   "source": [
    "#### Function to Calculate Correlations by Genre"
   ]
  },
  {
   "cell_type": "code",
   "execution_count": 23,
   "metadata": {},
   "outputs": [],
   "source": [
    "def genre_correlation(genre):\n",
    "    genre_data = df_rating[df_rating[\"genres_list\"].apply(lambda x: genre in x)]\n",
    "    pearson_corr, _ = pearsonr(\n",
    "        genre_data[\"averageRating\"], np.log10(genre_data[\"inflated_revenue\"])\n",
    "    )\n",
    "    spearman_corr, _ = spearmanr(\n",
    "        genre_data[\"averageRating\"], np.log10(genre_data[\"inflated_revenue\"])\n",
    "    )\n",
    "    return pd.Series(\n",
    "        {\"Genre\": genre, \"Pearson\": pearson_corr, \"Spearman\": spearman_corr}\n",
    "    )"
   ]
  },
  {
   "cell_type": "markdown",
   "metadata": {},
   "source": [
    "#### Calculate Correlations by Genre"
   ]
  },
  {
   "cell_type": "code",
   "execution_count": null,
   "metadata": {},
   "outputs": [],
   "source": [
    "# get top 20 genres\n",
    "genre_counts_filtered = genre_counts.head(20)\n",
    "genres = genre_counts_filtered.index.tolist()\n",
    "genre_corrs = pd.DataFrame([genre_correlation(genre) for genre in genres])\n",
    "genre_corrs.set_index(\"Genre\", inplace=True)\n",
    "genre_corrs"
   ]
  },
  {
   "cell_type": "markdown",
   "metadata": {},
   "source": [
    "#### Visualizing Genre-wise Correlations"
   ]
  },
  {
   "cell_type": "code",
   "execution_count": null,
   "metadata": {},
   "outputs": [],
   "source": [
    "plot_genre_correlation(genre_corrs)"
   ]
  },
  {
   "cell_type": "markdown",
   "metadata": {},
   "source": [
    "<div class=\"alert alert-info\">\n",
    "  💡 <strong>Discussion:</strong>\n",
    "\n",
    "  - Among the genres, some exhibit a stronger correlation between IMDb rating and box office revenue than others.\n",
    "  - For example, Action movies have a positive correlation of 0.33, while World cinema movies have a near negligible correlation of 0.05.\n",
    "  - Although the correlation values vary across genres, there is no genre with a negative correlation or a very strong positive correlation between IMDb rating and box office revenue.\n",
    "\n",
    "</div>"
   ]
  },
  {
   "cell_type": "markdown",
   "metadata": {},
   "source": [
    "### Regression Analysis"
   ]
  },
  {
   "cell_type": "markdown",
   "metadata": {},
   "source": [
    "<div class=\"alert alert-success\"> 💭 <strong>Idea:</strong>\n",
    "\n",
    " - We build a regression model to predict box office revenue based on IMDb ratings. \n",
    " - The predictive power of IMDb ratings can be assessed on box office revenue. \n",
    " </div> \n",
    " <div class=\"alert alert-warning\"> 🛠️ <strong>Methods:</strong> \n",
    " \n",
    " - Use linear regression to model the relationship between IMDb ratings and box office revenue.\n",
    "  - Evaluate the model's performance using metrics such as R-squared and P values. \n",
    "  - Visualize the regression line and residuals. \n",
    "  </div>"
   ]
  },
  {
   "cell_type": "markdown",
   "metadata": {},
   "source": [
    "#### Linear Regression Model"
   ]
  },
  {
   "cell_type": "markdown",
   "metadata": {},
   "source": [
    "##### Simple Linear Regression"
   ]
  },
  {
   "cell_type": "code",
   "execution_count": null,
   "metadata": {},
   "outputs": [],
   "source": [
    "# Prepare the df_rating\n",
    "X = df_rating[[\"averageRating\"]]\n",
    "y = np.log10(df_rating[\"inflated_revenue\"])  # Log-transform the revenue\n",
    "\n",
    "# Add a constant term for the intercept\n",
    "X = sm.add_constant(X)\n",
    "\n",
    "# Fit the model\n",
    "model = sm.OLS(y, X).fit()\n",
    "\n",
    "# Model summary\n",
    "print(model.summary())"
   ]
  },
  {
   "cell_type": "markdown",
   "metadata": {},
   "source": [
    "##### Multiple Linear Regression: IMDb Rating and Number of Votes vs. Box Office Revenue"
   ]
  },
  {
   "cell_type": "code",
   "execution_count": null,
   "metadata": {},
   "outputs": [],
   "source": [
    "# Prepare the df_rating\n",
    "X_multi = df_rating[[\"averageRating\", \"numVotes\"]]\n",
    "y_multi = np.log10(df_rating[\"inflated_revenue\"])\n",
    "\n",
    "# Log-transform numVotes to normalize\n",
    "X_multi[\"log_numVotes\"] = np.log10(X_multi[\"numVotes\"])\n",
    "\n",
    "# Add a constant term\n",
    "X_multi = sm.add_constant(X_multi[[\"averageRating\", \"log_numVotes\"]])\n",
    "\n",
    "# Fit the model\n",
    "model_multi = sm.OLS(y_multi, X_multi).fit()\n",
    "\n",
    "# Model summary\n",
    "print(model_multi.summary())"
   ]
  },
  {
   "cell_type": "markdown",
   "metadata": {},
   "source": [
    "<div class=\"alert alert-info\">\n",
    "  💡 <strong>Discussion:</strong>\n",
    "\n",
    "  - **Model Improvement:** Including log-transformed vote count significantly enhanced the model, with R² rising from 0.021 (rating-only) to 0.283, which shows vote count as a stronger revenue predictor than ratings alone.\n",
    "  - **Surprising Rating Effect Shift:** Controlling for votes, the rating coefficient turns slightly negative (-0.0550) compared to its positive effect (0.1663) in the single predictor model. This indicates that higher ratings don’t necessarily increase revenue once popularity (votes) is considered. (Said's Note: This is a surprising result that may effect our other analysis in this section as well)\n",
    "  - **Vote Count Impact**: The positive coefficient for log_numVotes (0.7979, p < 0.001) suggests a 10% vote count increase correlates with an 8% revenue boost, that highlights vote count as the primary revenue driver over rating quality.\n",
    "\n",
    "</div>"
   ]
  },
  {
   "cell_type": "markdown",
   "metadata": {},
   "source": [
    "#### 3D Visualization of Multiple Linear Regression Model"
   ]
  },
  {
   "cell_type": "code",
   "execution_count": null,
   "metadata": {},
   "outputs": [],
   "source": [
    "plt.style.available"
   ]
  },
  {
   "cell_type": "code",
   "execution_count": null,
   "metadata": {},
   "outputs": [],
   "source": [
    "plt.style.use(\"seaborn-v0_8-whitegrid\")\n",
    "\n",
    "# Create a meshgrid for plotting\n",
    "averageRating_range = np.linspace(\n",
    "    df_rating[\"averageRating\"].min(), df_rating[\"averageRating\"].max(), 50\n",
    ")\n",
    "log_numVotes_range = np.linspace(\n",
    "    np.log10(df_rating[\"numVotes\"]).min(), np.log10(df_rating[\"numVotes\"]).max(), 50\n",
    ")\n",
    "averageRating_grid, log_numVotes_grid = np.meshgrid(\n",
    "    averageRating_range, log_numVotes_range\n",
    ")\n",
    "predicted_revenue = model_multi.predict(\n",
    "    sm.add_constant(\n",
    "        pd.DataFrame(\n",
    "            {\n",
    "                \"averageRating\": averageRating_grid.ravel(),\n",
    "                \"log_numVotes\": log_numVotes_grid.ravel(),\n",
    "            }\n",
    "        )\n",
    "    )\n",
    ").values.reshape(averageRating_grid.shape)\n",
    "\n",
    "# Plotting\n",
    "fig = plt.figure(figsize=(14, 10))\n",
    "ax = fig.add_subplot(111, projection=\"3d\")\n",
    "ax.scatter(\n",
    "    df_rating[\"averageRating\"],\n",
    "    np.log10(df_rating[\"numVotes\"]),\n",
    "    np.log10(df_rating[\"inflated_revenue\"]),\n",
    "    c=\"blue\",\n",
    "    alpha=0.5,\n",
    "    label=\"Actual Data\",\n",
    ")\n",
    "ax.plot_surface(\n",
    "    averageRating_grid,\n",
    "    log_numVotes_grid,\n",
    "    predicted_revenue,\n",
    "    color=\"red\",\n",
    "    alpha=0.4,\n",
    "    label=\"Regression Plane\",\n",
    ")\n",
    "ax.set_xlabel(\"IMDb Rating\")\n",
    "ax.set_ylabel(\"Log10 of NumVotes\")\n",
    "ax.set_zlabel(\"Log10 of Inflated Revenue\")\n",
    "# fit z label inside the plot\n",
    "ax.zaxis.labelpad = -10\n",
    "\n",
    "plt.title(\"3D Regression Plane\")\n",
    "plt.legend()\n",
    "plt.show()"
   ]
  },
  {
   "cell_type": "code",
   "execution_count": null,
   "metadata": {},
   "outputs": [],
   "source": [
    "plot_3d_regression_plane(df_rating, model_multi)"
   ]
  },
  {
   "cell_type": "markdown",
   "metadata": {},
   "source": [
    "#### Regression Plot"
   ]
  },
  {
   "cell_type": "code",
   "execution_count": null,
   "metadata": {},
   "outputs": [],
   "source": [
    "# TODO Said's Note: Since scatter plot is not a good choice to visualize the regression line for this task (as there are thousands of points), we may omit this plot (as the next plot is more informative with hexbins)\n",
    "plt.figure(figsize=(12, 8))\n",
    "sns.regplot(\n",
    "    x=\"averageRating\",\n",
    "    y=np.log10(df_rating[\"inflated_revenue\"]),\n",
    "    data=df_rating,\n",
    "    scatter_kws={\"alpha\": 0.5},\n",
    "    line_kws={\"color\": \"red\"},\n",
    ")\n",
    "plt.title(\"Linear Regression: IMDb Rating vs. Log10 of Inflated Revenue\")\n",
    "plt.xlabel(\"IMDb Rating\")\n",
    "plt.ylabel(\"Log10 of Inflated Revenue\")\n",
    "plt.show()"
   ]
  },
  {
   "cell_type": "markdown",
   "metadata": {},
   "source": [
    "It is hard to interpret the regression scatter plot due to the high density of points. We can use a hexbin plot to visualize the relationship better."
   ]
  },
  {
   "cell_type": "code",
   "execution_count": null,
   "metadata": {},
   "outputs": [],
   "source": [
    "# Create figure with custom size and style\n",
    "plt.style.use(\"seaborn-v0_8-ticks\")\n",
    "sns.set_palette(\"husl\")\n",
    "\n",
    "# Creation of the joint plot\n",
    "g = sns.jointplot(\n",
    "    data=df_rating,\n",
    "    x=\"averageRating\",\n",
    "    y=np.log10(df_rating[\"inflated_revenue\"]),\n",
    "    kind=\"hex\",\n",
    "    height=8,  # figure size\n",
    "    ratio=8,  # the ratio of main plot to marginal plots\n",
    "    marginal_kws=dict(bins=70),  # More bins in marginal plots\n",
    "    joint_kws=dict(gridsize=20),  # More hexbins for better resolution\n",
    "    palette=\"viridis\",  # Modern color palette\n",
    ")\n",
    "\n",
    "# Add trend line\n",
    "x = df_rating[\"averageRating\"]\n",
    "y = np.log10(df_rating[\"inflated_revenue\"])\n",
    "slope, intercept, r_value, p_value, std_err = stats.linregress(x, y)\n",
    "line = slope * x + intercept\n",
    "g.ax_joint.plot(\n",
    "    x, line, color=\"red\", linestyle=\"--\", linewidth=2, label=f\"R² = {r_value**2:.3f}\"\n",
    ")\n",
    "\n",
    "# Customize the plot\n",
    "g.figure.suptitle(\n",
    "    \"Relationship Between IMDb Ratings and Box Office Revenue\",\n",
    "    y=1.02,\n",
    "    fontsize=16,\n",
    "    fontweight=\"bold\",\n",
    ")\n",
    "\n",
    "# Add descriptive labels\n",
    "g.ax_joint.set_xlabel(\"IMDb Rating\", fontsize=12, fontweight=\"bold\")\n",
    "g.ax_joint.set_ylabel(\"Log10(Box Office Revenue)\", fontsize=12, fontweight=\"bold\")\n",
    "\n",
    "# Add legend with modern color\n",
    "g.ax_joint.legend(loc=\"upper left\", fontsize=10, frameon=True, facecolor=\"white\")\n",
    "\n",
    "\n",
    "# Add text box with statistics\n",
    "stats_text = (\n",
    "    f\"Correlation: {r_value:.3f}\\n\"\n",
    "    f\"Slope: {slope:.3f}\\n\"\n",
    "    f\"Intercept: {intercept:.3f}\\n\"\n",
    "    f\"p-value: {p_value:.3e}\"\n",
    ")\n",
    "g.ax_joint.text(\n",
    "    0.05,\n",
    "    0.95,\n",
    "    stats_text,\n",
    "    transform=g.ax_joint.transAxes,\n",
    "    bbox=dict(facecolor=\"white\", alpha=0.8, edgecolor=\"none\"),\n",
    "    fontsize=10,\n",
    "    verticalalignment=\"top\",\n",
    ")\n",
    "\n",
    "# Customize hexbin appearance\n",
    "g.ax_joint.collections[0].set_cmap(\"viridis\")  # Modern colormap\n",
    "\n",
    "\n",
    "# Add color bar\n",
    "cbar = g.figure.colorbar(g.ax_joint.collections[0], ax=g.ax_joint, label=\"Count\")\n",
    "cbar.set_label(\"Frequency\", fontsize=10, fontweight=\"bold\")\n",
    "\n",
    "# Tight layout\n",
    "plt.tight_layout()\n",
    "\n",
    "# Show the plot\n",
    "plt.show()"
   ]
  },
  {
   "cell_type": "code",
   "execution_count": null,
   "metadata": {},
   "outputs": [],
   "source": [
    "import plotly.graph_objects as go\n",
    "import numpy as np\n",
    "from scipy import stats\n",
    "\n",
    "# Pre-calculate log revenue\n",
    "df_rating[\"log_revenue\"] = np.log10(df_rating[\"inflated_revenue\"])\n",
    "\n",
    "# Calculate the trendline (do this once, outside the figure creation)\n",
    "x = df_rating[\"averageRating\"]\n",
    "y = df_rating[\"log_revenue\"]\n",
    "slope, intercept, r_value, p_value, std_err = stats.linregress(x, y)\n",
    "line = slope * x + intercept\n",
    "\n",
    "\n",
    "# Create the hexbin plot\n",
    "hexbin_trace = go.Histogram2dContour(\n",
    "    x=df_rating[\"averageRating\"],\n",
    "    y=df_rating[\"log_revenue\"],\n",
    "    colorscale=\"Viridis\",  # Choose a suitable colorscale\n",
    "    nbinsx=30,  # Number of bins in x direction\n",
    "    nbinsy=30,  # Number of bins in y direction\n",
    "    showscale=True,  # Show colorbar\n",
    "    colorbar=dict(\n",
    "        title=\"Number of Movies\", len=0.5, y=0.5\n",
    "    ),  # shorter colorbar, middle placement\n",
    "    hovertemplate=\"IMDb Rating: %{x:.2f}<br>Log Revenue: %{y:.2f}<br>Count: %{z}\",\n",
    ")\n",
    "\n",
    "# Create the trendline trace\n",
    "trendline_trace = go.Scatter(\n",
    "    x=x,\n",
    "    y=line,\n",
    "    mode=\"lines\",\n",
    "    line=dict(color=\"red\", width=2, dash=\"dash\"),\n",
    "    name=f\"Trendline (R² = {r_value**2:.3f})\",\n",
    ")\n",
    "\n",
    "# Create the marginal distributions (histograms)\n",
    "x_hist = go.Histogram(\n",
    "    x=df_rating[\"averageRating\"],\n",
    "    marker_color=\"#f47835\",  # some color\n",
    "    opacity=0.75,\n",
    "    name=\"IMDb Rating Distribution\",\n",
    "    yaxis=\"y2\",  # use secondary axis\n",
    "    showlegend=False,\n",
    ")\n",
    "y_hist = go.Histogram(\n",
    "    y=df_rating[\"log_revenue\"],\n",
    "    marker_color=\"#f47835\",\n",
    "    opacity=0.75,\n",
    "    name=\"Log Revenue Distribution\",\n",
    "    xaxis=\"x2\",\n",
    "    showlegend=False,\n",
    ")\n",
    "\n",
    "\n",
    "# Create the layout\n",
    "layout = go.Layout(\n",
    "    title_text=\"Relationship Between IMDb Ratings and Box Office Revenue\",\n",
    "    xaxis_title=\"IMDb Rating\",\n",
    "    yaxis_title=\"Log10(Box Office Revenue)\",\n",
    "    plot_bgcolor=\"white\",\n",
    "    paper_bgcolor=\"white\",\n",
    "    font_color=\"black\",\n",
    "    xaxis=dict(domain=[0, 0.85], showgrid=False),  # xaxis range for the main plot\n",
    "    yaxis=dict(\n",
    "        domain=[0, 0.85], showgrid=True, gridcolor=\"lightgray\"\n",
    "    ),  # yaxis range for the main plot\n",
    "    xaxis2=dict(domain=[0.85, 1], showgrid=False),  # for y marginal distribution\n",
    "    yaxis2=dict(domain=[0.85, 1], showgrid=False),  # for x marginal distribution\n",
    "    margin=dict(t=50, b=0, l=0, r=0),  # Adjust margins to avoid overlapping labels\n",
    "    legend=dict(font=dict(size=12), orientation=\"h\", y=1, x=0.75),\n",
    "    annotations=[\n",
    "        dict(\n",
    "            x=0.03,\n",
    "            y=0.93,\n",
    "            xref=\"paper\",\n",
    "            yref=\"paper\",\n",
    "            text=(\n",
    "                f\"Correlation: {r_value:.3f}<br>\"\n",
    "                f\"Slope: {slope:.3f}<br>\"\n",
    "                f\"Intercept: {intercept:.3f}<br>\"\n",
    "                f\"p-value: {p_value:.3e}\"\n",
    "            ),\n",
    "            showarrow=False,\n",
    "            bgcolor=\"white\",\n",
    "            bordercolor=\"black\",\n",
    "            borderwidth=1,\n",
    "            font=dict(size=12),\n",
    "            align=\"left\",\n",
    "        ),\n",
    "    ],\n",
    "    barmode=\"overlay\",  # Important: Overlay bar charts for histograms\n",
    "    bargap=0,\n",
    ")\n",
    "\n",
    "fig = go.Figure(data=[hexbin_trace, trendline_trace, x_hist, y_hist], layout=layout)\n",
    "\n",
    "fig.show()"
   ]
  },
  {
   "cell_type": "code",
   "execution_count": null,
   "metadata": {},
   "outputs": [],
   "source": [
    "plot_hexbin_regression_plane(df_rating)"
   ]
  },
  {
   "cell_type": "code",
   "execution_count": null,
   "metadata": {},
   "outputs": [],
   "source": [
    "import plotly.express as px\n",
    "import plotly.graph_objects as go\n",
    "from scipy.stats import linregress\n",
    "import numpy as np\n",
    "\n",
    "# Prepare data\n",
    "x = df_rating[\"averageRating\"]\n",
    "y = np.log10(df_rating[\"inflated_revenue\"])\n",
    "\n",
    "# Perform linear regression\n",
    "slope, intercept, r_value, p_value, std_err = linregress(x, y)\n",
    "trendline = slope * x + intercept\n",
    "\n",
    "# Hexbin plot\n",
    "fig = px.density_heatmap(\n",
    "    x=x,\n",
    "    y=y,\n",
    "    nbinsx=100,  # Number of bins in x-direction\n",
    "    nbinsy=100,  # Number of bins in y-direction\n",
    "    color_continuous_scale=\"Viridis\",  # Color-blind friendly palette\n",
    "    labels={\n",
    "        \"x\": \"IMDb Rating\",\n",
    "        \"y\": \"Log10(Box Office Revenue)\",\n",
    "        \"color\": \"Frequency\",\n",
    "    },\n",
    "    title=\"Relationship Between IMDb Ratings and Box Office Revenue\",\n",
    ")\n",
    "\n",
    "# Add regression line\n",
    "fig.add_trace(\n",
    "    go.Scatter(\n",
    "        x=x,\n",
    "        y=trendline,\n",
    "        mode=\"lines\",\n",
    "        line=dict(color=\"red\", dash=\"dash\", width=2),\n",
    "        name=f\"Trend Line (R² = {r_value**2:.3f})\",\n",
    "        hoverinfo=\"skip\",  # Skip hover on the line\n",
    "    )\n",
    ")\n",
    "\n",
    "# Add text box with regression statistics\n",
    "fig.add_annotation(\n",
    "    x=0.95,  # Position near top-right\n",
    "    y=0.95,\n",
    "    xref=\"paper\",\n",
    "    yref=\"paper\",\n",
    "    text=(\n",
    "        f\"<b>Regression Stats:</b><br>\"\n",
    "        f\"Correlation: {r_value:.3f}<br>\"\n",
    "        f\"Slope: {slope:.3f}<br>\"\n",
    "        f\"Intercept: {intercept:.3f}<br>\"\n",
    "        f\"P-value: {p_value:.3e}\"\n",
    "    ),\n",
    "    showarrow=False,\n",
    "    font=dict(size=12),\n",
    "    align=\"left\",\n",
    "    bordercolor=\"black\",\n",
    "    borderwidth=1,\n",
    "    borderpad=8,\n",
    "    bgcolor=\"white\",\n",
    "    opacity=0.8,\n",
    ")\n",
    "\n",
    "# Update layout for better readability\n",
    "fig.update_layout(\n",
    "    xaxis_title=\"IMDb Rating\",\n",
    "    yaxis_title=\"Log10(Box Office Revenue)\",\n",
    "    title=dict(\n",
    "        text=\"Relationship Between IMDb Ratings and Box Office Revenue\",\n",
    "        x=0.5,\n",
    "        font=dict(size=18, family=\"Arial\"),\n",
    "    ),\n",
    "    coloraxis_colorbar=dict(title=\"Frequency\"),\n",
    "    template=\"plotly_white\",\n",
    ")\n",
    "\n",
    "# Show plot\n",
    "fig.show()"
   ]
  },
  {
   "cell_type": "markdown",
   "metadata": {},
   "source": [
    "<div class=\"alert alert-info\"> 📢 <strong>Discussion:</strong> \n",
    "\n",
    "- The regression analysis provides a quantitative measure of the relationship between IMDb ratings and box office revenue.\n",
    "- The visualization, including the regression line and hexbin plot, helps in understanding the distribution of data points and the fit of the regression model. \n",
    "- The color bar provides additional context by showing the frequency of data points in different regions of the plot.\n",
    "- The slope of the regression line shows the rate at which box office revenue changes with respect to IMDb ratings. And since the slope is not significant, we can say that the relationship is weak.\n",
    "- The p-value indicates the statistical significance of the relationship, with a low p-value suggesting that the observed relationship is unlikely to be due to chance. \n",
    " </div>"
   ]
  }
 ],
 "metadata": {
  "kernelspec": {
   "display_name": "base",
   "language": "python",
   "name": "python3"
  },
  "language_info": {
   "codemirror_mode": {
    "name": "ipython",
    "version": 3
   },
   "file_extension": ".py",
   "mimetype": "text/x-python",
   "name": "python",
   "nbconvert_exporter": "python",
   "pygments_lexer": "ipython3",
   "version": "3.11.6"
  }
 },
 "nbformat": 4,
 "nbformat_minor": 2
}
